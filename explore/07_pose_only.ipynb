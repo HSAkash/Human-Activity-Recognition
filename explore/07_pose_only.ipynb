{
 "cells": [
  {
   "cell_type": "code",
   "execution_count": null,
   "metadata": {
    "id": "YFK_XpSM3hGH"
   },
   "outputs": [],
   "source": [
    "! unzip -q \"/content/drive/MyDrive/Colab Notebooks/Human_Activity_Recognition/pose_dataset_aug.zip\""
   ]
  },
  {
   "cell_type": "code",
   "execution_count": null,
   "metadata": {
    "id": "e1PM4qSc43fX"
   },
   "outputs": [],
   "source": [
    "! cp \"/content/drive/MyDrive/Colab Notebooks/helper_functions.py\" \"helper_functions.py\""
   ]
  },
  {
   "cell_type": "code",
   "execution_count": null,
   "metadata": {
    "id": "8_AFm1rA5KMv"
   },
   "outputs": [],
   "source": [
    "import os\n",
    "import pandas as pd\n",
    "import matplotlib.pyplot as plt\n",
    "from sklearn.metrics import confusion_matrix\n",
    "from PIL import Image\n",
    "import numpy as np\n",
    "from glob import glob\n",
    "from tqdm.auto import tqdm\n",
    "import tensorflow as tf\n",
    "from sklearn.model_selection import train_test_split\n",
    "from tensorflow.keras import Sequential, Input, Model\n",
    "from tensorflow.keras.layers import LSTM, Dense, GRU,Dropout, concatenate, Conv2D, MaxPooling2D, TimeDistributed, GlobalAveragePooling2D\n",
    "from helper_functions import make_confusion_matrix, getPrescisionRecallF1\n",
    "\n",
    "\n",
    "SEED = 42\n",
    "BATCH_SIZE = 14\n",
    "FRAME_WIDTH = 640\n",
    "FRAME_HIGHT = 480\n",
    "epochs = 50\n",
    "length = 20\n",
    "IMG_SIZE = 128\n",
    "np.random.seed(SEED)\n",
    "tf.random.set_seed(SEED)"
   ]
  },
  {
   "cell_type": "code",
   "execution_count": null,
   "metadata": {
    "id": "fFvy1Lh15NGt"
   },
   "outputs": [],
   "source": [
    "root_dir = \"pose_dataset_aug\"\n",
    "pre_dir = \"aug_seg_rgb_resize\"\n",
    "split_dir_dict_path=\"/content/drive/MyDrive/Colab Notebooks/Human_Activity_Recognition/split_dir_dict.npy\""
   ]
  },
  {
   "cell_type": "code",
   "execution_count": null,
   "metadata": {
    "colab": {
     "base_uri": "https://localhost:8080/"
    },
    "id": "ILYerFJ35yxd",
    "outputId": "c5455abe-bfa9-463f-98e4-f5506fa00935"
   },
   "outputs": [
    {
     "data": {
      "text/plain": [
       "(7,\n",
       " ['Clapping',\n",
       "  'Meet and Split',\n",
       "  'Sitting',\n",
       "  'Standing Still',\n",
       "  'Walking',\n",
       "  'Walking While Reading Book',\n",
       "  'Walking While Using Phone'],\n",
       " {'Clapping': 0,\n",
       "  'Meet and Split': 1,\n",
       "  'Sitting': 2,\n",
       "  'Standing Still': 3,\n",
       "  'Walking': 4,\n",
       "  'Walking While Reading Book': 5,\n",
       "  'Walking While Using Phone': 6})"
      ]
     },
     "execution_count": 5,
     "metadata": {},
     "output_type": "execute_result"
    }
   ],
   "source": [
    "class_names = sorted([x.split(f\"{root_dir}/\")[-1] for x in glob(f\"{root_dir}/*\")])\n",
    "class_dict = {x:i for i,x in enumerate(class_names)}\n",
    "num_classes = len(class_names)\n",
    "num_classes, class_names, class_dict"
   ]
  },
  {
   "cell_type": "code",
   "execution_count": null,
   "metadata": {
    "id": "f5KHfy2a51QY"
   },
   "outputs": [],
   "source": [
    "from collections import defaultdict\n",
    "\n",
    "\n",
    "def get_train_test_split(root_dir, class_names,split_dir_dict_path):\n",
    "\n",
    "    if os.path.exists(split_dir_dict_path):\n",
    "\n",
    "        return np.load(split_dir_dict_path, allow_pickle=True).item()\n",
    "\n",
    "    split_dir_dict = {\n",
    "\n",
    "        \"train\": [],\n",
    "\n",
    "        \"test\": [],\n",
    "\n",
    "    }\n",
    "\n",
    "    for class_name in class_names:\n",
    "\n",
    "        img_dirs = glob(f\"{root_dir}/{class_name}/*\")\n",
    "        img_dirs_dict = defaultdict(list)\n",
    "        for img_dir in img_dirs:\n",
    "            key = img_dir.split(\"/\")[-1].split(\"_\")[0]\n",
    "            img_dirs_dict[key].append(img_dir)\n",
    "\n",
    "        # print(img_dirs_dict)\n",
    "        np.random.seed(42)\n",
    "        keys = list(img_dirs_dict.keys())\n",
    "        # print(keys)\n",
    "        np.random.shuffle(keys)\n",
    "\n",
    "        train_keys, test_keys = train_test_split(keys, test_size=0.2)\n",
    "\n",
    "        for train_key in train_keys:\n",
    "            split_dir_dict[\"train\"].extend(img_dirs_dict[train_key])\n",
    "        for test_key in test_keys:\n",
    "            split_dir_dict[\"test\"].extend(img_dirs_dict[test_key])\n",
    "\n",
    "    np.random.seed(42)\n",
    "\n",
    "    np.random.shuffle(split_dir_dict[\"train\"])\n",
    "\n",
    "    np.random.shuffle(split_dir_dict[\"test\"])\n",
    "\n",
    "    np.save(split_dir_dict_path, split_dir_dict)\n",
    "\n",
    "    return np.load(split_dir_dict_path, allow_pickle=True).item()\n"
   ]
  },
  {
   "cell_type": "code",
   "execution_count": null,
   "metadata": {
    "id": "DaEbJpel5-UO"
   },
   "outputs": [],
   "source": [
    "split_dir_dict = get_train_test_split(root_dir, class_names, split_dir_dict_path)"
   ]
  },
  {
   "cell_type": "code",
   "execution_count": null,
   "metadata": {
    "colab": {
     "base_uri": "https://localhost:8080/"
    },
    "id": "gw5VTkaM6Ax6",
    "outputId": "0237eee5-968a-4269-d866-eb72b6e89257"
   },
   "outputs": [
    {
     "data": {
      "text/plain": [
       "(12404, 3178)"
      ]
     },
     "execution_count": 18,
     "metadata": {},
     "output_type": "execute_result"
    }
   ],
   "source": [
    "train_dirs = split_dir_dict[\"train\"]\n",
    "test_dirs = split_dir_dict[\"test\"]\n",
    "len(train_dirs), len(test_dirs)"
   ]
  },
  {
   "cell_type": "code",
   "execution_count": null,
   "metadata": {
    "colab": {
     "base_uri": "https://localhost:8080/"
    },
    "id": "Z_PCnWti6FbX",
    "outputId": "caab3b62-77c1-47ef-dade-71d14cb293b5"
   },
   "outputs": [
    {
     "data": {
      "text/plain": [
       "227"
      ]
     },
     "execution_count": 19,
     "metadata": {},
     "output_type": "execute_result"
    }
   ],
   "source": [
    "test_dirs = [x for x in test_dirs if len(x.split(\"/\")[-1].split(\"_\")) ==1]\n",
    "len(test_dirs)"
   ]
  },
  {
   "cell_type": "code",
   "execution_count": null,
   "metadata": {
    "colab": {
     "base_uri": "https://localhost:8080/"
    },
    "id": "IiIN9iep6HsQ",
    "outputId": "ebd18e99-bf70-4641-922d-daf789fe08a0"
   },
   "outputs": [
    {
     "data": {
      "text/plain": [
       "(12404,\n",
       " 227,\n",
       " 'aug_seg_rgb_resize/Meet and Split/00135_rotation_20',\n",
       " 'pose_dataset_aug/Walking While Reading Book/00115')"
      ]
     },
     "execution_count": 21,
     "metadata": {},
     "output_type": "execute_result"
    }
   ],
   "source": [
    "train_keyPoints_dirs = [x.replace(pre_dir, root_dir) for x in train_dirs]\n",
    "test_keyPoints_dirs = [x.replace(pre_dir, root_dir) for x in test_dirs]\n",
    "len(train_keyPoints_dirs), len(test_keyPoints_dirs), train_dirs[0], test_keyPoints_dirs[0]"
   ]
  },
  {
   "cell_type": "code",
   "execution_count": null,
   "metadata": {
    "id": "U1ZriyY86cTI"
   },
   "outputs": [],
   "source": [
    "def get_labels(image_dirs):\n",
    "    labels = []\n",
    "    for x in image_dirs:\n",
    "        labels.append(class_dict[x.split(\"/\")[-2]])\n",
    "    return np.array(labels)"
   ]
  },
  {
   "cell_type": "code",
   "execution_count": null,
   "metadata": {
    "id": "amC7CQmh6fZo"
   },
   "outputs": [],
   "source": [
    "def load_keypoints(npy_dirs):\n",
    "    npy_datas = []\n",
    "    for x in tqdm(npy_dirs):\n",
    "        npy_paths = glob(f\"{x}/*\")\n",
    "        npy_paths = np.array(sorted(npy_paths))\n",
    "        index = np.round(np.linspace(0,len(npy_paths)-1,length))\n",
    "        index = index.astype(np.int8)\n",
    "        npy_paths = npy_paths[index]\n",
    "        npy_data = []\n",
    "        for y in npy_paths:\n",
    "            data = np.load(y)\n",
    "            data[:,:,0] /= FRAME_WIDTH\n",
    "            data[:,:,1] /= FRAME_HIGHT\n",
    "            npy_data.append(np.ravel(data))\n",
    "        npy_datas.append(npy_data)\n",
    "    return np.array(npy_datas, dtype=np.float32)"
   ]
  },
  {
   "cell_type": "code",
   "execution_count": null,
   "metadata": {
    "colab": {
     "base_uri": "https://localhost:8080/",
     "height": 81,
     "referenced_widgets": [
      "085bbea0434f4f12b52763772824e393",
      "685e2112b5c34c26884c2eb15a35e69c",
      "73806d0e0e8d444cbe308de88da5b0b6",
      "3c64cc9c0c8d47f99c42b7379214e43f",
      "b7a254199fb141a399213c2672014c78",
      "a46c0a52d8cb42af91d615630cc816c6",
      "93a74acf182145269e649f98813d2f12",
      "e7c40b11c4214de4a70f58bc5e37528c",
      "f585c6a6257949a1bfda0ced167b7d77",
      "8a60752c8b4d49c681b930ef4cd4ac77",
      "77b6cae58ae24f1d9ce5e429330674f1",
      "1192ed55678347159e2e88b8b4f3c790",
      "24fe0b6a73ab42e4888cefd2b0e6941f",
      "fa0565eb39f540e3b37f0e0295d217f3",
      "309d7e6352c84d26ac5864a29f4d1ebe",
      "2fdd7780cefe462ab96757b640002a4d",
      "5a68f8455d3e417ab56ec37039afa29c",
      "e87832cef2a04deeb014a39d28c517bf",
      "e1e0f3cbafb24cb1afcaac1aed965215",
      "cc22475d38304b999cdbd6abc3ec5daa",
      "99d6185781dd4ee29baffc22eaa0a0c1",
      "1bd0c650cfef48cea8b4d4d665e16cfa"
     ]
    },
    "id": "YqFnIlMM6gjw",
    "outputId": "5821c347-30d9-4ff4-f274-f79a70f588ea"
   },
   "outputs": [
    {
     "data": {
      "application/vnd.jupyter.widget-view+json": {
       "model_id": "085bbea0434f4f12b52763772824e393",
       "version_major": 2,
       "version_minor": 0
      },
      "text/plain": [
       "  0%|          | 0/12404 [00:00<?, ?it/s]"
      ]
     },
     "metadata": {},
     "output_type": "display_data"
    },
    {
     "data": {
      "application/vnd.jupyter.widget-view+json": {
       "model_id": "1192ed55678347159e2e88b8b4f3c790",
       "version_major": 2,
       "version_minor": 0
      },
      "text/plain": [
       "  0%|          | 0/227 [00:00<?, ?it/s]"
      ]
     },
     "metadata": {},
     "output_type": "display_data"
    }
   ],
   "source": [
    "train_labels = get_labels(train_keyPoints_dirs)\n",
    "test_labels = get_labels(test_keyPoints_dirs)\n",
    "\n",
    "train_keypoints_dataset = load_keypoints(train_keyPoints_dirs)\n",
    "test_keypoints_dataset = load_keypoints(test_keyPoints_dirs)\n"
   ]
  },
  {
   "cell_type": "code",
   "execution_count": null,
   "metadata": {
    "colab": {
     "base_uri": "https://localhost:8080/"
    },
    "id": "IezwCZcW6467",
    "outputId": "44240113-755c-4f39-c89a-fb4cbcd1ef2c"
   },
   "outputs": [
    {
     "data": {
      "text/plain": [
       "((12404,), (227,), (12404, 20, 102), (227, 20, 102))"
      ]
     },
     "execution_count": 25,
     "metadata": {},
     "output_type": "execute_result"
    }
   ],
   "source": [
    "train_labels.shape, test_labels.shape, train_keypoints_dataset.shape, test_keypoints_dataset.shape"
   ]
  },
  {
   "cell_type": "code",
   "execution_count": null,
   "metadata": {
    "colab": {
     "base_uri": "https://localhost:8080/"
    },
    "id": "UdtwoJAA7rYX",
    "outputId": "0a99b75a-db1a-412e-aff1-4e0bb6689383"
   },
   "outputs": [
    {
     "data": {
      "text/plain": [
       "(TensorShape([12404, 7]), TensorShape([227, 7]))"
      ]
     },
     "execution_count": 26,
     "metadata": {},
     "output_type": "execute_result"
    }
   ],
   "source": [
    "y_train = tf.one_hot(train_labels, depth=num_classes)\n",
    "y_test = tf.one_hot(test_labels, depth=num_classes)\n",
    "y_train.shape, y_test.shape"
   ]
  },
  {
   "cell_type": "code",
   "execution_count": null,
   "metadata": {
    "id": "oJ2aiEc07uhQ"
   },
   "outputs": [],
   "source": [
    "y_train = tf.cast(y_train, tf.float32)\n",
    "y_test = tf.cast(y_test, tf.float32)"
   ]
  },
  {
   "cell_type": "code",
   "execution_count": null,
   "metadata": {
    "id": "OgFSuB7g8RHS"
   },
   "outputs": [],
   "source": [
    "train_ds = train_ds.batch(BATCH_SIZE)\n",
    "test_ds = test_ds.batch(BATCH_SIZE)"
   ]
  },
  {
   "cell_type": "code",
   "execution_count": null,
   "metadata": {
    "colab": {
     "base_uri": "https://localhost:8080/"
    },
    "id": "_a8zWSAA7yVx",
    "outputId": "9211629e-c77f-45e0-9222-4e6b5aaaa10c"
   },
   "outputs": [
    {
     "name": "stderr",
     "output_type": "stream",
     "text": [
      "/usr/local/lib/python3.10/dist-packages/keras/src/layers/rnn/rnn.py:204: UserWarning: Do not pass an `input_shape`/`input_dim` argument to a layer. When using Sequential models, prefer using an `Input(shape)` object as the first layer in the model instead.\n",
      "  super().__init__(**kwargs)\n"
     ]
    }
   ],
   "source": [
    "tf.random.set_seed(SEED)\n",
    "\n",
    "# Define the keypoint model\n",
    "model = Sequential()\n",
    "model.add(LSTM(64, return_sequences=True, activation='relu', input_shape=train_keypoints_dataset.shape[1:]))\n",
    "model.add(LSTM(128, return_sequences=True, activation='relu'))\n",
    "model.add(LSTM(64, return_sequences=False, activation='relu'))\n",
    "model.add(Dense(64, activation='relu'))\n",
    "model.add(Dense(32, activation='relu'))\n",
    "model.add(Dense(num_classes, activation=\"softmax\"))\n"
   ]
  },
  {
   "cell_type": "code",
   "execution_count": null,
   "metadata": {
    "colab": {
     "base_uri": "https://localhost:8080/",
     "height": 940
    },
    "id": "2ULRCsg_70Fr",
    "outputId": "7fd1e578-8279-41d4-e931-e5219d644a00"
   },
   "outputs": [
    {
     "data": {
      "image/png": "[encoded data removed]",
      "text/plain": [
       "<IPython.core.display.Image object>"
      ]
     },
     "execution_count": 29,
     "metadata": {},
     "output_type": "execute_result"
    }
   ],
   "source": [
    "tf.keras.utils.plot_model(\n",
    "    model,\n",
    "    to_file='model.png',\n",
    "    show_shapes=True,\n",
    "    show_dtype=False,\n",
    "    show_layer_names=True,\n",
    "    rankdir='TB',\n",
    "    expand_nested=False,\n",
    "    dpi=96,\n",
    "    layer_range=None,\n",
    "    show_layer_activations=False,\n",
    "    show_trainable=False\n",
    ")"
   ]
  },
  {
   "cell_type": "code",
   "execution_count": null,
   "metadata": {
    "id": "H3EWZ1bz72SG"
   },
   "outputs": [],
   "source": [
    "model.compile(optimizer='Adam', loss='categorical_crossentropy', metrics=['accuracy'])"
   ]
  },
  {
   "cell_type": "code",
   "execution_count": null,
   "metadata": {
    "id": "HX0JFwgi74SF"
   },
   "outputs": [],
   "source": [
    "gdrive_Path = \"/content/drive/MyDrive/Colab Notebooks/Human_Activity_Recognition\"\n",
    "checkPointName = \"Key_CheckPoint\"\n",
    "\n",
    "# Best model\n",
    "best_checkpoint_path = f\"{gdrive_Path}/{checkPointName}/model_best/best_model.keras\"\n",
    "best_checkpoint_callback = tf.keras.callbacks.ModelCheckpoint(\n",
    "    best_checkpoint_path,\n",
    "    monitor='val_accuracy',\n",
    "    save_best_only=True\n",
    ")\n",
    "\n",
    "# Every epoch model\n",
    "checkpoint_path = f\"{gdrive_Path}/{checkPointName}/model/\"\n",
    "checkpoint_callback = tf.keras.callbacks.ModelCheckpoint(\n",
    "    checkpoint_path+'model_{epoch:02d}.keras',\n",
    "    save_freq='epoch'\n",
    ")\n",
    "\n",
    "# Reduce learning rate\n",
    "reduce_callback =  tf.keras.callbacks.ReduceLROnPlateau(\n",
    "    monitor='val_accuracy',\n",
    "    factor=0.1,\n",
    "    patience=5,\n",
    "    verbose=1,\n",
    "    min_lr=1e-7\n",
    ")\n",
    "\n",
    "# History\n",
    "history_path = f\"{gdrive_Path}/{checkPointName}/history.txt\"\n",
    "save_history_callback = tf.keras.callbacks.CSVLogger(history_path, append=True)\n",
    "os.makedirs(os.path.dirname(history_path), exist_ok=True)\n",
    "\n"
   ]
  },
  {
   "cell_type": "code",
   "execution_count": null,
   "metadata": {
    "colab": {
     "base_uri": "https://localhost:8080/"
    },
    "id": "Q1EQ2jC28FFM",
    "outputId": "9992e0b6-0bb7-4d0d-9ee6-45becc4ad35f"
   },
   "outputs": [
    {
     "data": {
      "text/plain": [
       "[]"
      ]
     },
     "execution_count": 32,
     "metadata": {},
     "output_type": "execute_result"
    }
   ],
   "source": [
    "save_model_paths = glob(f'{checkpoint_path}/*.keras')\n",
    "save_model_paths = sorted(save_model_paths)\n",
    "\n",
    "save_model_paths"
   ]
  },
  {
   "cell_type": "code",
   "execution_count": null,
   "metadata": {
    "colab": {
     "base_uri": "https://localhost:8080/"
    },
    "id": "Ug57f_zR8HFk",
    "outputId": "4d7e25e1-2998-4a0d-a749-6461c1abbc61"
   },
   "outputs": [
    {
     "data": {
      "text/plain": [
       "0"
      ]
     },
     "execution_count": 33,
     "metadata": {},
     "output_type": "execute_result"
    }
   ],
   "source": [
    "initial_epoch = 0\n",
    "\n",
    "if len(save_model_paths) == 0:\n",
    "    initial_epoch = 0\n",
    "else:\n",
    "    model = tf.keras.models.load_model(save_model_paths[-1])\n",
    "    initial_epoch = int(save_model_paths[-1].split('_')[-1].split('.')[0])\n",
    "\n",
    "initial_epoch"
   ]
  },
  {
   "cell_type": "code",
   "execution_count": null,
   "metadata": {
    "colab": {
     "base_uri": "https://localhost:8080/"
    },
    "id": "7d-HfwB58I4D",
    "outputId": "44d8b0c8-6080-4559-d89e-54bce52c1926"
   },
   "outputs": [
    {
     "name": "stdout",
     "output_type": "stream",
     "text": [
      "Epoch 1/50\n",
      "\u001b[1m886/886\u001b[0m \u001b[32m━━━━━━━━━━━━━━━━━━━━\u001b[0m\u001b[37m\u001b[0m \u001b[1m59s\u001b[0m 60ms/step - accuracy: 0.4185 - loss: 1.3160 - val_accuracy: 0.5066 - val_loss: 0.9750 - learning_rate: 0.0010\n",
      "Epoch 2/50\n",
      "\u001b[1m886/886\u001b[0m \u001b[32m━━━━━━━━━━━━━━━━━━━━\u001b[0m\u001b[37m\u001b[0m \u001b[1m37s\u001b[0m 42ms/step - accuracy: 0.5411 - loss: 1.8271 - val_accuracy: 0.5639 - val_loss: 0.8870 - learning_rate: 0.0010\n",
      "Epoch 3/50\n",
      "\u001b[1m886/886\u001b[0m \u001b[32m━━━━━━━━━━━━━━━━━━━━\u001b[0m\u001b[37m\u001b[0m \u001b[1m38s\u001b[0m 39ms/step - accuracy: 0.5563 - loss: 0.8568 - val_accuracy: 0.6476 - val_loss: 0.7750 - learning_rate: 0.0010\n",
      "Epoch 4/50\n",
      "\u001b[1m886/886\u001b[0m \u001b[32m━━━━━━━━━━━━━━━━━━━━\u001b[0m\u001b[37m\u001b[0m \u001b[1m44s\u001b[0m 42ms/step - accuracy: 0.6273 - loss: 0.7652 - val_accuracy: 0.6652 - val_loss: 0.7631 - learning_rate: 0.0010\n",
      "Epoch 5/50\n",
      "\u001b[1m886/886\u001b[0m \u001b[32m━━━━━━━━━━━━━━━━━━━━\u001b[0m\u001b[37m\u001b[0m \u001b[1m35s\u001b[0m 39ms/step - accuracy: 0.6863 - loss: 0.6570 - val_accuracy: 0.7225 - val_loss: 0.6709 - learning_rate: 0.0010\n",
      "Epoch 6/50\n",
      "\u001b[1m886/886\u001b[0m \u001b[32m━━━━━━━━━━━━━━━━━━━━\u001b[0m\u001b[37m\u001b[0m \u001b[1m41s\u001b[0m 39ms/step - accuracy: 0.7310 - loss: 0.5843 - val_accuracy: 0.7313 - val_loss: 0.7097 - learning_rate: 0.0010\n",
      "Epoch 7/50\n",
      "\u001b[1m886/886\u001b[0m \u001b[32m━━━━━━━━━━━━━━━━━━━━\u001b[0m\u001b[37m\u001b[0m \u001b[1m41s\u001b[0m 40ms/step - accuracy: 0.7848 - loss: 0.4856 - val_accuracy: 0.7401 - val_loss: 0.6319 - learning_rate: 0.0010\n",
      "Epoch 8/50\n",
      "\u001b[1m886/886\u001b[0m \u001b[32m━━━━━━━━━━━━━━━━━━━━\u001b[0m\u001b[37m\u001b[0m \u001b[1m35s\u001b[0m 40ms/step - accuracy: 0.8205 - loss: 0.4227 - val_accuracy: 0.8150 - val_loss: 0.4829 - learning_rate: 0.0010\n",
      "Epoch 9/50\n",
      "\u001b[1m886/886\u001b[0m \u001b[32m━━━━━━━━━━━━━━━━━━━━\u001b[0m\u001b[37m\u001b[0m \u001b[1m40s\u001b[0m 39ms/step - accuracy: 0.8405 - loss: 0.3853 - val_accuracy: 0.8018 - val_loss: 0.4939 - learning_rate: 0.0010\n",
      "Epoch 10/50\n",
      "\u001b[1m886/886\u001b[0m \u001b[32m━━━━━━━━━━━━━━━━━━━━\u001b[0m\u001b[37m\u001b[0m \u001b[1m41s\u001b[0m 38ms/step - accuracy: 0.8516 - loss: 0.3752 - val_accuracy: 0.7841 - val_loss: 0.5822 - learning_rate: 0.0010\n",
      "Epoch 11/50\n",
      "\u001b[1m886/886\u001b[0m \u001b[32m━━━━━━━━━━━━━━━━━━━━\u001b[0m\u001b[37m\u001b[0m \u001b[1m41s\u001b[0m 39ms/step - accuracy: 0.8652 - loss: 0.3338 - val_accuracy: 0.8150 - val_loss: 0.5073 - learning_rate: 0.0010\n",
      "Epoch 12/50\n",
      "\u001b[1m886/886\u001b[0m \u001b[32m━━━━━━━━━━━━━━━━━━━━\u001b[0m\u001b[37m\u001b[0m \u001b[1m44s\u001b[0m 42ms/step - accuracy: 0.8836 - loss: 0.2843 - val_accuracy: 0.8018 - val_loss: 0.6733 - learning_rate: 0.0010\n",
      "Epoch 13/50\n",
      "\u001b[1m886/886\u001b[0m \u001b[32m━━━━━━━━━━━━━━━━━━━━\u001b[0m\u001b[37m\u001b[0m \u001b[1m35s\u001b[0m 39ms/step - accuracy: 0.8978 - loss: 0.2590 - val_accuracy: 0.8414 - val_loss: 0.5014 - learning_rate: 0.0010\n",
      "Epoch 14/50\n",
      "\u001b[1m886/886\u001b[0m \u001b[32m━━━━━━━━━━━━━━━━━━━━\u001b[0m\u001b[37m\u001b[0m \u001b[1m41s\u001b[0m 40ms/step - accuracy: 0.8429 - loss: 0.6954 - val_accuracy: 0.3612 - val_loss: 1.5272 - learning_rate: 0.0010\n",
      "Epoch 15/50\n",
      "\u001b[1m886/886\u001b[0m \u001b[32m━━━━━━━━━━━━━━━━━━━━\u001b[0m\u001b[37m\u001b[0m \u001b[1m40s\u001b[0m 39ms/step - accuracy: 0.4852 - loss: 8001.7627 - val_accuracy: 0.6784 - val_loss: 0.6316 - learning_rate: 0.0010\n",
      "Epoch 16/50\n",
      "\u001b[1m886/886\u001b[0m \u001b[32m━━━━━━━━━━━━━━━━━━━━\u001b[0m\u001b[37m\u001b[0m \u001b[1m40s\u001b[0m 39ms/step - accuracy: 0.6780 - loss: 0.7269 - val_accuracy: 0.7974 - val_loss: 0.4605 - learning_rate: 0.0010\n",
      "Epoch 17/50\n",
      "\u001b[1m886/886\u001b[0m \u001b[32m━━━━━━━━━━━━━━━━━━━━\u001b[0m\u001b[37m\u001b[0m \u001b[1m41s\u001b[0m 39ms/step - accuracy: 0.7732 - loss: 0.5260 - val_accuracy: 0.8590 - val_loss: 0.3844 - learning_rate: 0.0010\n",
      "Epoch 18/50\n",
      "\u001b[1m886/886\u001b[0m \u001b[32m━━━━━━━━━━━━━━━━━━━━\u001b[0m\u001b[37m\u001b[0m \u001b[1m41s\u001b[0m 39ms/step - accuracy: 0.8238 - loss: 0.4372 - val_accuracy: 0.8458 - val_loss: 0.3950 - learning_rate: 0.0010\n",
      "Epoch 19/50\n",
      "\u001b[1m886/886\u001b[0m \u001b[32m━━━━━━━━━━━━━━━━━━━━\u001b[0m\u001b[37m\u001b[0m \u001b[1m42s\u001b[0m 40ms/step - accuracy: 0.8536 - loss: 0.3591 - val_accuracy: 0.8194 - val_loss: 0.4984 - learning_rate: 0.0010\n",
      "Epoch 20/50\n",
      "\u001b[1m886/886\u001b[0m \u001b[32m━━━━━━━━━━━━━━━━━━━━\u001b[0m\u001b[37m\u001b[0m \u001b[1m43s\u001b[0m 43ms/step - accuracy: 0.8832 - loss: 0.2971 - val_accuracy: 0.8546 - val_loss: 0.4534 - learning_rate: 0.0010\n",
      "Epoch 21/50\n",
      "\u001b[1m886/886\u001b[0m \u001b[32m━━━━━━━━━━━━━━━━━━━━\u001b[0m\u001b[37m\u001b[0m \u001b[1m38s\u001b[0m 39ms/step - accuracy: 0.9005 - loss: 0.2544 - val_accuracy: 0.8590 - val_loss: 0.5476 - learning_rate: 0.0010\n",
      "Epoch 22/50\n",
      "\u001b[1m886/886\u001b[0m \u001b[32m━━━━━━━━━━━━━━━━━━━━\u001b[0m\u001b[37m\u001b[0m \u001b[1m41s\u001b[0m 39ms/step - accuracy: 0.9124 - loss: 0.2283 - val_accuracy: 0.8943 - val_loss: 0.3082 - learning_rate: 0.0010\n",
      "Epoch 23/50\n",
      "\u001b[1m886/886\u001b[0m \u001b[32m━━━━━━━━━━━━━━━━━━━━\u001b[0m\u001b[37m\u001b[0m \u001b[1m42s\u001b[0m 41ms/step - accuracy: 0.9170 - loss: 0.2084 - val_accuracy: 0.8767 - val_loss: 0.3518 - learning_rate: 0.0010\n",
      "Epoch 24/50\n",
      "\u001b[1m886/886\u001b[0m \u001b[32m━━━━━━━━━━━━━━━━━━━━\u001b[0m\u001b[37m\u001b[0m \u001b[1m40s\u001b[0m 40ms/step - accuracy: 0.9170 - loss: 0.2202 - val_accuracy: 0.9163 - val_loss: 0.3566 - learning_rate: 0.0010\n",
      "Epoch 25/50\n",
      "\u001b[1m886/886\u001b[0m \u001b[32m━━━━━━━━━━━━━━━━━━━━\u001b[0m\u001b[37m\u001b[0m \u001b[1m40s\u001b[0m 39ms/step - accuracy: 0.9360 - loss: 0.1674 - val_accuracy: 0.8722 - val_loss: 0.4191 - learning_rate: 0.0010\n",
      "Epoch 26/50\n",
      "\u001b[1m886/886\u001b[0m \u001b[32m━━━━━━━━━━━━━━━━━━━━\u001b[0m\u001b[37m\u001b[0m \u001b[1m41s\u001b[0m 39ms/step - accuracy: 0.9436 - loss: 0.1484 - val_accuracy: 0.9075 - val_loss: 0.3967 - learning_rate: 0.0010\n",
      "Epoch 27/50\n",
      "\u001b[1m886/886\u001b[0m \u001b[32m━━━━━━━━━━━━━━━━━━━━\u001b[0m\u001b[37m\u001b[0m \u001b[1m35s\u001b[0m 40ms/step - accuracy: 0.8591 - loss: 0.5189 - val_accuracy: 0.6167 - val_loss: 0.8070 - learning_rate: 0.0010\n",
      "Epoch 28/50\n",
      "\u001b[1m886/886\u001b[0m \u001b[32m━━━━━━━━━━━━━━━━━━━━\u001b[0m\u001b[37m\u001b[0m \u001b[1m41s\u001b[0m 39ms/step - accuracy: 0.7132 - loss: 0.7895 - val_accuracy: 0.8546 - val_loss: 0.4002 - learning_rate: 0.0010\n",
      "Epoch 29/50\n",
      "\u001b[1m886/886\u001b[0m \u001b[32m━━━━━━━━━━━━━━━━━━━━\u001b[0m\u001b[37m\u001b[0m \u001b[1m0s\u001b[0m 39ms/step - accuracy: 0.8568 - loss: 0.3563\n",
      "Epoch 29: ReduceLROnPlateau reducing learning rate to 0.00010000000474974513.\n",
      "\u001b[1m886/886\u001b[0m \u001b[32m━━━━━━━━━━━━━━━━━━━━\u001b[0m\u001b[37m\u001b[0m \u001b[1m41s\u001b[0m 40ms/step - accuracy: 0.8568 - loss: 0.3564 - val_accuracy: 0.7885 - val_loss: 0.6083 - learning_rate: 0.0010\n",
      "Epoch 30/50\n",
      "\u001b[1m886/886\u001b[0m \u001b[32m━━━━━━━━━━━━━━━━━━━━\u001b[0m\u001b[37m\u001b[0m \u001b[1m40s\u001b[0m 39ms/step - accuracy: 0.8649 - loss: 0.3665 - val_accuracy: 0.8722 - val_loss: 0.3818 - learning_rate: 1.0000e-04\n",
      "Epoch 31/50\n",
      "\u001b[1m886/886\u001b[0m \u001b[32m━━━━━━━━━━━━━━━━━━━━\u001b[0m\u001b[37m\u001b[0m \u001b[1m41s\u001b[0m 39ms/step - accuracy: 0.9067 - loss: 0.2369 - val_accuracy: 0.8634 - val_loss: 0.3763 - learning_rate: 1.0000e-04\n",
      "Epoch 32/50\n",
      "\u001b[1m886/886\u001b[0m \u001b[32m━━━━━━━━━━━━━━━━━━━━\u001b[0m\u001b[37m\u001b[0m \u001b[1m41s\u001b[0m 39ms/step - accuracy: 0.9216 - loss: 0.1991 - val_accuracy: 0.8722 - val_loss: 0.3668 - learning_rate: 1.0000e-04\n",
      "Epoch 33/50\n",
      "\u001b[1m886/886\u001b[0m \u001b[32m━━━━━━━━━━━━━━━━━━━━\u001b[0m\u001b[37m\u001b[0m \u001b[1m41s\u001b[0m 39ms/step - accuracy: 0.9332 - loss: 0.1732 - val_accuracy: 0.8634 - val_loss: 0.3640 - learning_rate: 1.0000e-04\n",
      "Epoch 34/50\n",
      "\u001b[1m886/886\u001b[0m \u001b[32m━━━━━━━━━━━━━━━━━━━━\u001b[0m\u001b[37m\u001b[0m \u001b[1m0s\u001b[0m 40ms/step - accuracy: 0.9416 - loss: 0.1516\n",
      "Epoch 34: ReduceLROnPlateau reducing learning rate to 1.0000000474974514e-05.\n",
      "\u001b[1m886/886\u001b[0m \u001b[32m━━━━━━━━━━━━━━━━━━━━\u001b[0m\u001b[37m\u001b[0m \u001b[1m42s\u001b[0m 40ms/step - accuracy: 0.9416 - loss: 0.1516 - val_accuracy: 0.8811 - val_loss: 0.3888 - learning_rate: 1.0000e-04\n",
      "Epoch 35/50\n",
      "\u001b[1m886/886\u001b[0m \u001b[32m━━━━━━━━━━━━━━━━━━━━\u001b[0m\u001b[37m\u001b[0m \u001b[1m40s\u001b[0m 39ms/step - accuracy: 0.9511 - loss: 0.1266 - val_accuracy: 0.8899 - val_loss: 0.4056 - learning_rate: 1.0000e-05\n",
      "Epoch 36/50\n",
      "\u001b[1m886/886\u001b[0m \u001b[32m━━━━━━━━━━━━━━━━━━━━\u001b[0m\u001b[37m\u001b[0m \u001b[1m42s\u001b[0m 41ms/step - accuracy: 0.9542 - loss: 0.1191 - val_accuracy: 0.8855 - val_loss: 0.4090 - learning_rate: 1.0000e-05\n",
      "Epoch 37/50\n",
      "\u001b[1m886/886\u001b[0m \u001b[32m━━━━━━━━━━━━━━━━━━━━\u001b[0m\u001b[37m\u001b[0m \u001b[1m38s\u001b[0m 42ms/step - accuracy: 0.9552 - loss: 0.1162 - val_accuracy: 0.8855 - val_loss: 0.4129 - learning_rate: 1.0000e-05\n",
      "Epoch 38/50\n",
      "\u001b[1m886/886\u001b[0m \u001b[32m━━━━━━━━━━━━━━━━━━━━\u001b[0m\u001b[37m\u001b[0m \u001b[1m38s\u001b[0m 39ms/step - accuracy: 0.9560 - loss: 0.1135 - val_accuracy: 0.8855 - val_loss: 0.4180 - learning_rate: 1.0000e-05\n",
      "Epoch 39/50\n",
      "\u001b[1m886/886\u001b[0m \u001b[32m━━━━━━━━━━━━━━━━━━━━\u001b[0m\u001b[37m\u001b[0m \u001b[1m0s\u001b[0m 39ms/step - accuracy: 0.9571 - loss: 0.1109\n",
      "Epoch 39: ReduceLROnPlateau reducing learning rate to 1.0000000656873453e-06.\n",
      "\u001b[1m886/886\u001b[0m \u001b[32m━━━━━━━━━━━━━━━━━━━━\u001b[0m\u001b[37m\u001b[0m \u001b[1m41s\u001b[0m 39ms/step - accuracy: 0.9571 - loss: 0.1109 - val_accuracy: 0.8943 - val_loss: 0.4234 - learning_rate: 1.0000e-05\n",
      "Epoch 40/50\n",
      "\u001b[1m886/886\u001b[0m \u001b[32m━━━━━━━━━━━━━━━━━━━━\u001b[0m\u001b[37m\u001b[0m \u001b[1m35s\u001b[0m 39ms/step - accuracy: 0.9589 - loss: 0.1074 - val_accuracy: 0.8943 - val_loss: 0.4282 - learning_rate: 1.0000e-06\n",
      "Epoch 41/50\n",
      "\u001b[1m886/886\u001b[0m \u001b[32m━━━━━━━━━━━━━━━━━━━━\u001b[0m\u001b[37m\u001b[0m \u001b[1m35s\u001b[0m 39ms/step - accuracy: 0.9593 - loss: 0.1065 - val_accuracy: 0.8943 - val_loss: 0.4299 - learning_rate: 1.0000e-06\n",
      "Epoch 42/50\n",
      "\u001b[1m886/886\u001b[0m \u001b[32m━━━━━━━━━━━━━━━━━━━━\u001b[0m\u001b[37m\u001b[0m \u001b[1m42s\u001b[0m 40ms/step - accuracy: 0.9597 - loss: 0.1062 - val_accuracy: 0.8943 - val_loss: 0.4310 - learning_rate: 1.0000e-06\n",
      "Epoch 43/50\n",
      "\u001b[1m886/886\u001b[0m \u001b[32m━━━━━━━━━━━━━━━━━━━━\u001b[0m\u001b[37m\u001b[0m \u001b[1m40s\u001b[0m 39ms/step - accuracy: 0.9603 - loss: 0.1059 - val_accuracy: 0.8943 - val_loss: 0.4318 - learning_rate: 1.0000e-06\n",
      "Epoch 44/50\n",
      "\u001b[1m885/886\u001b[0m \u001b[32m━━━━━━━━━━━━━━━━━━━\u001b[0m\u001b[37m━\u001b[0m \u001b[1m0s\u001b[0m 38ms/step - accuracy: 0.9602 - loss: 0.1056\n",
      "Epoch 44: ReduceLROnPlateau reducing learning rate to 1.0000001111620805e-07.\n",
      "\u001b[1m886/886\u001b[0m \u001b[32m━━━━━━━━━━━━━━━━━━━━\u001b[0m\u001b[37m\u001b[0m \u001b[1m40s\u001b[0m 39ms/step - accuracy: 0.9602 - loss: 0.1056 - val_accuracy: 0.8943 - val_loss: 0.4327 - learning_rate: 1.0000e-06\n",
      "Epoch 45/50\n",
      "\u001b[1m886/886\u001b[0m \u001b[32m━━━━━━━━━━━━━━━━━━━━\u001b[0m\u001b[37m\u001b[0m \u001b[1m49s\u001b[0m 48ms/step - accuracy: 0.9608 - loss: 0.1052 - val_accuracy: 0.8943 - val_loss: 0.4330 - learning_rate: 1.0000e-07\n",
      "Epoch 46/50\n",
      "\u001b[1m886/886\u001b[0m \u001b[32m━━━━━━━━━━━━━━━━━━━━\u001b[0m\u001b[37m\u001b[0m \u001b[1m74s\u001b[0m 39ms/step - accuracy: 0.9608 - loss: 0.1051 - val_accuracy: 0.8943 - val_loss: 0.4332 - learning_rate: 1.0000e-07\n",
      "Epoch 47/50\n",
      "\u001b[1m886/886\u001b[0m \u001b[32m━━━━━━━━━━━━━━━━━━━━\u001b[0m\u001b[37m\u001b[0m \u001b[1m42s\u001b[0m 40ms/step - accuracy: 0.9608 - loss: 0.1050 - val_accuracy: 0.8943 - val_loss: 0.4334 - learning_rate: 1.0000e-07\n",
      "Epoch 48/50\n",
      "\u001b[1m886/886\u001b[0m \u001b[32m━━━━━━━━━━━━━━━━━━━━\u001b[0m\u001b[37m\u001b[0m \u001b[1m40s\u001b[0m 39ms/step - accuracy: 0.9605 - loss: 0.1049 - val_accuracy: 0.8943 - val_loss: 0.4335 - learning_rate: 1.0000e-07\n",
      "Epoch 49/50\n",
      "\u001b[1m886/886\u001b[0m \u001b[32m━━━━━━━━━━━━━━━━━━━━\u001b[0m\u001b[37m\u001b[0m \u001b[1m0s\u001b[0m 41ms/step - accuracy: 0.9605 - loss: 0.1049\n",
      "Epoch 49: ReduceLROnPlateau reducing learning rate to 1e-07.\n",
      "\u001b[1m886/886\u001b[0m \u001b[32m━━━━━━━━━━━━━━━━━━━━\u001b[0m\u001b[37m\u001b[0m \u001b[1m42s\u001b[0m 41ms/step - accuracy: 0.9605 - loss: 0.1049 - val_accuracy: 0.8943 - val_loss: 0.4336 - learning_rate: 1.0000e-07\n",
      "Epoch 50/50\n",
      "\u001b[1m886/886\u001b[0m \u001b[32m━━━━━━━━━━━━━━━━━━━━\u001b[0m\u001b[37m\u001b[0m \u001b[1m39s\u001b[0m 39ms/step - accuracy: 0.9606 - loss: 0.1048 - val_accuracy: 0.8943 - val_loss: 0.4337 - learning_rate: 1.0000e-07\n"
     ]
    }
   ],
   "source": [
    "# Assuming y_train and y_test are one-hot encoded labels\n",
    "history = model.fit(\n",
    "    x=train_keypoints_dataset,\n",
    "    y=y_train,\n",
    "    initial_epoch=initial_epoch,\n",
    "    validation_data=(test_keypoints_dataset,y_test),\n",
    "    epochs=epochs,\n",
    "    batch_size=BATCH_SIZE,\n",
    "    callbacks=[\n",
    "        best_checkpoint_callback,\n",
    "        checkpoint_callback,\n",
    "        reduce_callback,\n",
    "        save_history_callback\n",
    "    ]\n",
    ")"
   ]
  },
  {
   "cell_type": "code",
   "execution_count": null,
   "metadata": {
    "id": "UqZUcqE88rxY"
   },
   "outputs": [],
   "source": [
    "def plot_loss_curves_history_path(history_path):\n",
    "    \"\"\"\n",
    "    csv history\n",
    "    \"\"\"\n",
    "    history = pd.read_csv(history_path)\n",
    "    loss = history['loss']\n",
    "    val_loss = history['val_loss']\n",
    "\n",
    "    accuracy = history['accuracy']\n",
    "    val_accuracy = history['val_accuracy']\n",
    "\n",
    "    epochs = range(len(history['epoch']))\n",
    "\n",
    "    # Plot loss\n",
    "    plt.plot(epochs, loss, label='training_loss')\n",
    "    plt.plot(epochs, val_loss, label='val_loss')\n",
    "    plt.title('Loss')\n",
    "    plt.xlabel('Epochs')\n",
    "    plt.legend()\n",
    "\n",
    "    # Plot accuracy\n",
    "    plt.figure()\n",
    "    plt.plot(epochs, accuracy, label='training_accuracy')\n",
    "    plt.plot(epochs, val_accuracy, label='val_accuracy')\n",
    "    plt.title('Accuracy')\n",
    "    plt.xlabel('Epochs')\n",
    "    plt.legend();"
   ]
  },
  {
   "cell_type": "code",
   "execution_count": null,
   "metadata": {
    "colab": {
     "base_uri": "https://localhost:8080/",
     "height": 927
    },
    "id": "cITCrPBJeLAt",
    "outputId": "e523658b-098a-4af1-f059-d96d630fb9e6"
   },
   "outputs": [
    {
     "data": {
      "image/png": "[encoded data removed]",
      "text/plain": [
       "<Figure size 640x480 with 1 Axes>"
      ]
     },
     "metadata": {},
     "output_type": "display_data"
    },
    {
     "data": {
      "image/png": "[encoded data removed]",
      "text/plain": [
       "<Figure size 640x480 with 1 Axes>"
      ]
     },
     "metadata": {},
     "output_type": "display_data"
    }
   ],
   "source": [
    "plot_loss_curves_history_path(history_path)"
   ]
  },
  {
   "cell_type": "code",
   "execution_count": null,
   "metadata": {
    "colab": {
     "base_uri": "https://localhost:8080/"
    },
    "id": "dfwt6pZV8ylM",
    "outputId": "f1e95e30-b2d4-408c-9a63-26ebf7f09aa7"
   },
   "outputs": [
    {
     "name": "stdout",
     "output_type": "stream",
     "text": [
      "\u001b[1m8/8\u001b[0m \u001b[32m━━━━━━━━━━━━━━━━━━━━\u001b[0m\u001b[37m\u001b[0m \u001b[1m1s\u001b[0m 84ms/step\n"
     ]
    },
    {
     "data": {
      "text/plain": [
       "((227,), (227,))"
      ]
     },
     "execution_count": 37,
     "metadata": {},
     "output_type": "execute_result"
    }
   ],
   "source": [
    "y_true_test = np.argmax(y_test, axis=-1)\n",
    "y_pred_test = model.predict(test_keypoints_dataset)\n",
    "y_pred_test = np.argmax(y_pred_test, axis=-1)\n",
    "y_true_test.shape, y_pred_test.shape"
   ]
  },
  {
   "cell_type": "code",
   "execution_count": null,
   "metadata": {
    "colab": {
     "base_uri": "https://localhost:8080/",
     "height": 929
    },
    "id": "mwJoAvJG81ME",
    "outputId": "582ed7dc-6a3a-418c-ff95-edb4dc20bf02"
   },
   "outputs": [
    {
     "data": {
      "image/png": "[encoded data removed]",
      "text/plain": [
       "<Figure size 1000x1000 with 2 Axes>"
      ]
     },
     "metadata": {},
     "output_type": "display_data"
    }
   ],
   "source": [
    "make_confusion_matrix(y_true_test, y_pred_test, list(class_names))"
   ]
  },
  {
   "cell_type": "code",
   "execution_count": null,
   "metadata": {
    "colab": {
     "base_uri": "https://localhost:8080/"
    },
    "id": "J_4EKanR825p",
    "outputId": "2ba20984-2767-4db2-c848-11ff30df6f16"
   },
   "outputs": [
    {
     "name": "stdout",
     "output_type": "stream",
     "text": [
      "        Task           precision      recall        f1       Accuracy \n",
      "______________________________________________________________________\n",
      "      Clapping           0.8889       0.8000       0.8421       0.8000  \n",
      "   Meet and Split        1.0000       1.0000       1.0000       1.0000  \n",
      "      Sitting            1.0000       0.9062       0.9508       0.9062  \n",
      "   Standing Still        0.8333       0.8571       0.8451       0.8571  \n",
      "      Walking            0.7907       0.9714       0.8718       0.9714  \n",
      "Walking While Reading Book     0.9412       0.8889       0.9143       0.8889  \n",
      "Walking While Using Phone     0.8571       0.8276       0.8421       0.8276  \n",
      "______________________________________________________________________\n",
      "      Average            0.9016       0.8930       0.8952       0.8943  \n"
     ]
    }
   ],
   "source": [
    "results = getPrescisionRecallF1(y_true_test, y_pred_test, class_names)\n",
    "print(results)\n",
    "with open(f\"{gdrive_Path}/{checkPointName}/PrescisionRecallF1.txt\", 'w') as file:\n",
    "    file.write(results)"
   ]
  },
  {
   "cell_type": "code",
   "execution_count": null,
   "metadata": {
    "id": "uzlh9jSu85lL"
   },
   "outputs": [],
   "source": []
  }
 ],
 "metadata": {
  "colab": {
   "provenance": []
  },
  "kernelspec": {
   "display_name": "Python 3",
   "name": "python3"
  },
  "language_info": {
   "name": "python"
  },
  "widgets": {
   "application/vnd.jupyter.widget-state+json": {
    "085bbea0434f4f12b52763772824e393": {
     "model_module": "@jupyter-widgets/controls",
     "model_module_version": "1.5.0",
     "model_name": "HBoxModel",
     "state": {
      "_dom_classes": [],
      "_model_module": "@jupyter-widgets/controls",
      "_model_module_version": "1.5.0",
      "_model_name": "HBoxModel",
      "_view_count": null,
      "_view_module": "@jupyter-widgets/controls",
      "_view_module_version": "1.5.0",
      "_view_name": "HBoxView",
      "box_style": "",
      "children": [
       "IPY_MODEL_685e2112b5c34c26884c2eb15a35e69c",
       "IPY_MODEL_73806d0e0e8d444cbe308de88da5b0b6",
       "IPY_MODEL_3c64cc9c0c8d47f99c42b7379214e43f"
      ],
      "layout": "IPY_MODEL_b7a254199fb141a399213c2672014c78"
     }
    },
    "1192ed55678347159e2e88b8b4f3c790": {
     "model_module": "@jupyter-widgets/controls",
     "model_module_version": "1.5.0",
     "model_name": "HBoxModel",
     "state": {
      "_dom_classes": [],
      "_model_module": "@jupyter-widgets/controls",
      "_model_module_version": "1.5.0",
      "_model_name": "HBoxModel",
      "_view_count": null,
      "_view_module": "@jupyter-widgets/controls",
      "_view_module_version": "1.5.0",
      "_view_name": "HBoxView",
      "box_style": "",
      "children": [
       "IPY_MODEL_24fe0b6a73ab42e4888cefd2b0e6941f",
       "IPY_MODEL_fa0565eb39f540e3b37f0e0295d217f3",
       "IPY_MODEL_309d7e6352c84d26ac5864a29f4d1ebe"
      ],
      "layout": "IPY_MODEL_2fdd7780cefe462ab96757b640002a4d"
     }
    },
    "1bd0c650cfef48cea8b4d4d665e16cfa": {
     "model_module": "@jupyter-widgets/controls",
     "model_module_version": "1.5.0",
     "model_name": "DescriptionStyleModel",
     "state": {
      "_model_module": "@jupyter-widgets/controls",
      "_model_module_version": "1.5.0",
      "_model_name": "DescriptionStyleModel",
      "_view_count": null,
      "_view_module": "@jupyter-widgets/base",
      "_view_module_version": "1.2.0",
      "_view_name": "StyleView",
      "description_width": ""
     }
    },
    "24fe0b6a73ab42e4888cefd2b0e6941f": {
     "model_module": "@jupyter-widgets/controls",
     "model_module_version": "1.5.0",
     "model_name": "HTMLModel",
     "state": {
      "_dom_classes": [],
      "_model_module": "@jupyter-widgets/controls",
      "_model_module_version": "1.5.0",
      "_model_name": "HTMLModel",
      "_view_count": null,
      "_view_module": "@jupyter-widgets/controls",
      "_view_module_version": "1.5.0",
      "_view_name": "HTMLView",
      "description": "",
      "description_tooltip": null,
      "layout": "IPY_MODEL_5a68f8455d3e417ab56ec37039afa29c",
      "placeholder": "​",
      "style": "IPY_MODEL_e87832cef2a04deeb014a39d28c517bf",
      "value": "100%"
     }
    },
    "2fdd7780cefe462ab96757b640002a4d": {
     "model_module": "@jupyter-widgets/base",
     "model_module_version": "1.2.0",
     "model_name": "LayoutModel",
     "state": {
      "_model_module": "@jupyter-widgets/base",
      "_model_module_version": "1.2.0",
      "_model_name": "LayoutModel",
      "_view_count": null,
      "_view_module": "@jupyter-widgets/base",
      "_view_module_version": "1.2.0",
      "_view_name": "LayoutView",
      "align_content": null,
      "align_items": null,
      "align_self": null,
      "border": null,
      "bottom": null,
      "display": null,
      "flex": null,
      "flex_flow": null,
      "grid_area": null,
      "grid_auto_columns": null,
      "grid_auto_flow": null,
      "grid_auto_rows": null,
      "grid_column": null,
      "grid_gap": null,
      "grid_row": null,
      "grid_template_areas": null,
      "grid_template_columns": null,
      "grid_template_rows": null,
      "height": null,
      "justify_content": null,
      "justify_items": null,
      "left": null,
      "margin": null,
      "max_height": null,
      "max_width": null,
      "min_height": null,
      "min_width": null,
      "object_fit": null,
      "object_position": null,
      "order": null,
      "overflow": null,
      "overflow_x": null,
      "overflow_y": null,
      "padding": null,
      "right": null,
      "top": null,
      "visibility": null,
      "width": null
     }
    },
    "309d7e6352c84d26ac5864a29f4d1ebe": {
     "model_module": "@jupyter-widgets/controls",
     "model_module_version": "1.5.0",
     "model_name": "HTMLModel",
     "state": {
      "_dom_classes": [],
      "_model_module": "@jupyter-widgets/controls",
      "_model_module_version": "1.5.0",
      "_model_name": "HTMLModel",
      "_view_count": null,
      "_view_module": "@jupyter-widgets/controls",
      "_view_module_version": "1.5.0",
      "_view_name": "HTMLView",
      "description": "",
      "description_tooltip": null,
      "layout": "IPY_MODEL_99d6185781dd4ee29baffc22eaa0a0c1",
      "placeholder": "​",
      "style": "IPY_MODEL_1bd0c650cfef48cea8b4d4d665e16cfa",
      "value": " 227/227 [00:00&lt;00:00, 284.17it/s]"
     }
    },
    "3c64cc9c0c8d47f99c42b7379214e43f": {
     "model_module": "@jupyter-widgets/controls",
     "model_module_version": "1.5.0",
     "model_name": "HTMLModel",
     "state": {
      "_dom_classes": [],
      "_model_module": "@jupyter-widgets/controls",
      "_model_module_version": "1.5.0",
      "_model_name": "HTMLModel",
      "_view_count": null,
      "_view_module": "@jupyter-widgets/controls",
      "_view_module_version": "1.5.0",
      "_view_name": "HTMLView",
      "description": "",
      "description_tooltip": null,
      "layout": "IPY_MODEL_8a60752c8b4d49c681b930ef4cd4ac77",
      "placeholder": "​",
      "style": "IPY_MODEL_77b6cae58ae24f1d9ce5e429330674f1",
      "value": " 12404/12404 [00:49&lt;00:00, 308.10it/s]"
     }
    },
    "5a68f8455d3e417ab56ec37039afa29c": {
     "model_module": "@jupyter-widgets/base",
     "model_module_version": "1.2.0",
     "model_name": "LayoutModel",
     "state": {
      "_model_module": "@jupyter-widgets/base",
      "_model_module_version": "1.2.0",
      "_model_name": "LayoutModel",
      "_view_count": null,
      "_view_module": "@jupyter-widgets/base",
      "_view_module_version": "1.2.0",
      "_view_name": "LayoutView",
      "align_content": null,
      "align_items": null,
      "align_self": null,
      "border": null,
      "bottom": null,
      "display": null,
      "flex": null,
      "flex_flow": null,
      "grid_area": null,
      "grid_auto_columns": null,
      "grid_auto_flow": null,
      "grid_auto_rows": null,
      "grid_column": null,
      "grid_gap": null,
      "grid_row": null,
      "grid_template_areas": null,
      "grid_template_columns": null,
      "grid_template_rows": null,
      "height": null,
      "justify_content": null,
      "justify_items": null,
      "left": null,
      "margin": null,
      "max_height": null,
      "max_width": null,
      "min_height": null,
      "min_width": null,
      "object_fit": null,
      "object_position": null,
      "order": null,
      "overflow": null,
      "overflow_x": null,
      "overflow_y": null,
      "padding": null,
      "right": null,
      "top": null,
      "visibility": null,
      "width": null
     }
    },
    "685e2112b5c34c26884c2eb15a35e69c": {
     "model_module": "@jupyter-widgets/controls",
     "model_module_version": "1.5.0",
     "model_name": "HTMLModel",
     "state": {
      "_dom_classes": [],
      "_model_module": "@jupyter-widgets/controls",
      "_model_module_version": "1.5.0",
      "_model_name": "HTMLModel",
      "_view_count": null,
      "_view_module": "@jupyter-widgets/controls",
      "_view_module_version": "1.5.0",
      "_view_name": "HTMLView",
      "description": "",
      "description_tooltip": null,
      "layout": "IPY_MODEL_a46c0a52d8cb42af91d615630cc816c6",
      "placeholder": "​",
      "style": "IPY_MODEL_93a74acf182145269e649f98813d2f12",
      "value": "100%"
     }
    },
    "73806d0e0e8d444cbe308de88da5b0b6": {
     "model_module": "@jupyter-widgets/controls",
     "model_module_version": "1.5.0",
     "model_name": "FloatProgressModel",
     "state": {
      "_dom_classes": [],
      "_model_module": "@jupyter-widgets/controls",
      "_model_module_version": "1.5.0",
      "_model_name": "FloatProgressModel",
      "_view_count": null,
      "_view_module": "@jupyter-widgets/controls",
      "_view_module_version": "1.5.0",
      "_view_name": "ProgressView",
      "bar_style": "success",
      "description": "",
      "description_tooltip": null,
      "layout": "IPY_MODEL_e7c40b11c4214de4a70f58bc5e37528c",
      "max": 12404,
      "min": 0,
      "orientation": "horizontal",
      "style": "IPY_MODEL_f585c6a6257949a1bfda0ced167b7d77",
      "value": 12404
     }
    },
    "77b6cae58ae24f1d9ce5e429330674f1": {
     "model_module": "@jupyter-widgets/controls",
     "model_module_version": "1.5.0",
     "model_name": "DescriptionStyleModel",
     "state": {
      "_model_module": "@jupyter-widgets/controls",
      "_model_module_version": "1.5.0",
      "_model_name": "DescriptionStyleModel",
      "_view_count": null,
      "_view_module": "@jupyter-widgets/base",
      "_view_module_version": "1.2.0",
      "_view_name": "StyleView",
      "description_width": ""
     }
    },
    "8a60752c8b4d49c681b930ef4cd4ac77": {
     "model_module": "@jupyter-widgets/base",
     "model_module_version": "1.2.0",
     "model_name": "LayoutModel",
     "state": {
      "_model_module": "@jupyter-widgets/base",
      "_model_module_version": "1.2.0",
      "_model_name": "LayoutModel",
      "_view_count": null,
      "_view_module": "@jupyter-widgets/base",
      "_view_module_version": "1.2.0",
      "_view_name": "LayoutView",
      "align_content": null,
      "align_items": null,
      "align_self": null,
      "border": null,
      "bottom": null,
      "display": null,
      "flex": null,
      "flex_flow": null,
      "grid_area": null,
      "grid_auto_columns": null,
      "grid_auto_flow": null,
      "grid_auto_rows": null,
      "grid_column": null,
      "grid_gap": null,
      "grid_row": null,
      "grid_template_areas": null,
      "grid_template_columns": null,
      "grid_template_rows": null,
      "height": null,
      "justify_content": null,
      "justify_items": null,
      "left": null,
      "margin": null,
      "max_height": null,
      "max_width": null,
      "min_height": null,
      "min_width": null,
      "object_fit": null,
      "object_position": null,
      "order": null,
      "overflow": null,
      "overflow_x": null,
      "overflow_y": null,
      "padding": null,
      "right": null,
      "top": null,
      "visibility": null,
      "width": null
     }
    },
    "93a74acf182145269e649f98813d2f12": {
     "model_module": "@jupyter-widgets/controls",
     "model_module_version": "1.5.0",
     "model_name": "DescriptionStyleModel",
     "state": {
      "_model_module": "@jupyter-widgets/controls",
      "_model_module_version": "1.5.0",
      "_model_name": "DescriptionStyleModel",
      "_view_count": null,
      "_view_module": "@jupyter-widgets/base",
      "_view_module_version": "1.2.0",
      "_view_name": "StyleView",
      "description_width": ""
     }
    },
    "99d6185781dd4ee29baffc22eaa0a0c1": {
     "model_module": "@jupyter-widgets/base",
     "model_module_version": "1.2.0",
     "model_name": "LayoutModel",
     "state": {
      "_model_module": "@jupyter-widgets/base",
      "_model_module_version": "1.2.0",
      "_model_name": "LayoutModel",
      "_view_count": null,
      "_view_module": "@jupyter-widgets/base",
      "_view_module_version": "1.2.0",
      "_view_name": "LayoutView",
      "align_content": null,
      "align_items": null,
      "align_self": null,
      "border": null,
      "bottom": null,
      "display": null,
      "flex": null,
      "flex_flow": null,
      "grid_area": null,
      "grid_auto_columns": null,
      "grid_auto_flow": null,
      "grid_auto_rows": null,
      "grid_column": null,
      "grid_gap": null,
      "grid_row": null,
      "grid_template_areas": null,
      "grid_template_columns": null,
      "grid_template_rows": null,
      "height": null,
      "justify_content": null,
      "justify_items": null,
      "left": null,
      "margin": null,
      "max_height": null,
      "max_width": null,
      "min_height": null,
      "min_width": null,
      "object_fit": null,
      "object_position": null,
      "order": null,
      "overflow": null,
      "overflow_x": null,
      "overflow_y": null,
      "padding": null,
      "right": null,
      "top": null,
      "visibility": null,
      "width": null
     }
    },
    "a46c0a52d8cb42af91d615630cc816c6": {
     "model_module": "@jupyter-widgets/base",
     "model_module_version": "1.2.0",
     "model_name": "LayoutModel",
     "state": {
      "_model_module": "@jupyter-widgets/base",
      "_model_module_version": "1.2.0",
      "_model_name": "LayoutModel",
      "_view_count": null,
      "_view_module": "@jupyter-widgets/base",
      "_view_module_version": "1.2.0",
      "_view_name": "LayoutView",
      "align_content": null,
      "align_items": null,
      "align_self": null,
      "border": null,
      "bottom": null,
      "display": null,
      "flex": null,
      "flex_flow": null,
      "grid_area": null,
      "grid_auto_columns": null,
      "grid_auto_flow": null,
      "grid_auto_rows": null,
      "grid_column": null,
      "grid_gap": null,
      "grid_row": null,
      "grid_template_areas": null,
      "grid_template_columns": null,
      "grid_template_rows": null,
      "height": null,
      "justify_content": null,
      "justify_items": null,
      "left": null,
      "margin": null,
      "max_height": null,
      "max_width": null,
      "min_height": null,
      "min_width": null,
      "object_fit": null,
      "object_position": null,
      "order": null,
      "overflow": null,
      "overflow_x": null,
      "overflow_y": null,
      "padding": null,
      "right": null,
      "top": null,
      "visibility": null,
      "width": null
     }
    },
    "b7a254199fb141a399213c2672014c78": {
     "model_module": "@jupyter-widgets/base",
     "model_module_version": "1.2.0",
     "model_name": "LayoutModel",
     "state": {
      "_model_module": "@jupyter-widgets/base",
      "_model_module_version": "1.2.0",
      "_model_name": "LayoutModel",
      "_view_count": null,
      "_view_module": "@jupyter-widgets/base",
      "_view_module_version": "1.2.0",
      "_view_name": "LayoutView",
      "align_content": null,
      "align_items": null,
      "align_self": null,
      "border": null,
      "bottom": null,
      "display": null,
      "flex": null,
      "flex_flow": null,
      "grid_area": null,
      "grid_auto_columns": null,
      "grid_auto_flow": null,
      "grid_auto_rows": null,
      "grid_column": null,
      "grid_gap": null,
      "grid_row": null,
      "grid_template_areas": null,
      "grid_template_columns": null,
      "grid_template_rows": null,
      "height": null,
      "justify_content": null,
      "justify_items": null,
      "left": null,
      "margin": null,
      "max_height": null,
      "max_width": null,
      "min_height": null,
      "min_width": null,
      "object_fit": null,
      "object_position": null,
      "order": null,
      "overflow": null,
      "overflow_x": null,
      "overflow_y": null,
      "padding": null,
      "right": null,
      "top": null,
      "visibility": null,
      "width": null
     }
    },
    "cc22475d38304b999cdbd6abc3ec5daa": {
     "model_module": "@jupyter-widgets/controls",
     "model_module_version": "1.5.0",
     "model_name": "ProgressStyleModel",
     "state": {
      "_model_module": "@jupyter-widgets/controls",
      "_model_module_version": "1.5.0",
      "_model_name": "ProgressStyleModel",
      "_view_count": null,
      "_view_module": "@jupyter-widgets/base",
      "_view_module_version": "1.2.0",
      "_view_name": "StyleView",
      "bar_color": null,
      "description_width": ""
     }
    },
    "e1e0f3cbafb24cb1afcaac1aed965215": {
     "model_module": "@jupyter-widgets/base",
     "model_module_version": "1.2.0",
     "model_name": "LayoutModel",
     "state": {
      "_model_module": "@jupyter-widgets/base",
      "_model_module_version": "1.2.0",
      "_model_name": "LayoutModel",
      "_view_count": null,
      "_view_module": "@jupyter-widgets/base",
      "_view_module_version": "1.2.0",
      "_view_name": "LayoutView",
      "align_content": null,
      "align_items": null,
      "align_self": null,
      "border": null,
      "bottom": null,
      "display": null,
      "flex": null,
      "flex_flow": null,
      "grid_area": null,
      "grid_auto_columns": null,
      "grid_auto_flow": null,
      "grid_auto_rows": null,
      "grid_column": null,
      "grid_gap": null,
      "grid_row": null,
      "grid_template_areas": null,
      "grid_template_columns": null,
      "grid_template_rows": null,
      "height": null,
      "justify_content": null,
      "justify_items": null,
      "left": null,
      "margin": null,
      "max_height": null,
      "max_width": null,
      "min_height": null,
      "min_width": null,
      "object_fit": null,
      "object_position": null,
      "order": null,
      "overflow": null,
      "overflow_x": null,
      "overflow_y": null,
      "padding": null,
      "right": null,
      "top": null,
      "visibility": null,
      "width": null
     }
    },
    "e7c40b11c4214de4a70f58bc5e37528c": {
     "model_module": "@jupyter-widgets/base",
     "model_module_version": "1.2.0",
     "model_name": "LayoutModel",
     "state": {
      "_model_module": "@jupyter-widgets/base",
      "_model_module_version": "1.2.0",
      "_model_name": "LayoutModel",
      "_view_count": null,
      "_view_module": "@jupyter-widgets/base",
      "_view_module_version": "1.2.0",
      "_view_name": "LayoutView",
      "align_content": null,
      "align_items": null,
      "align_self": null,
      "border": null,
      "bottom": null,
      "display": null,
      "flex": null,
      "flex_flow": null,
      "grid_area": null,
      "grid_auto_columns": null,
      "grid_auto_flow": null,
      "grid_auto_rows": null,
      "grid_column": null,
      "grid_gap": null,
      "grid_row": null,
      "grid_template_areas": null,
      "grid_template_columns": null,
      "grid_template_rows": null,
      "height": null,
      "justify_content": null,
      "justify_items": null,
      "left": null,
      "margin": null,
      "max_height": null,
      "max_width": null,
      "min_height": null,
      "min_width": null,
      "object_fit": null,
      "object_position": null,
      "order": null,
      "overflow": null,
      "overflow_x": null,
      "overflow_y": null,
      "padding": null,
      "right": null,
      "top": null,
      "visibility": null,
      "width": null
     }
    },
    "e87832cef2a04deeb014a39d28c517bf": {
     "model_module": "@jupyter-widgets/controls",
     "model_module_version": "1.5.0",
     "model_name": "DescriptionStyleModel",
     "state": {
      "_model_module": "@jupyter-widgets/controls",
      "_model_module_version": "1.5.0",
      "_model_name": "DescriptionStyleModel",
      "_view_count": null,
      "_view_module": "@jupyter-widgets/base",
      "_view_module_version": "1.2.0",
      "_view_name": "StyleView",
      "description_width": ""
     }
    },
    "f585c6a6257949a1bfda0ced167b7d77": {
     "model_module": "@jupyter-widgets/controls",
     "model_module_version": "1.5.0",
     "model_name": "ProgressStyleModel",
     "state": {
      "_model_module": "@jupyter-widgets/controls",
      "_model_module_version": "1.5.0",
      "_model_name": "ProgressStyleModel",
      "_view_count": null,
      "_view_module": "@jupyter-widgets/base",
      "_view_module_version": "1.2.0",
      "_view_name": "StyleView",
      "bar_color": null,
      "description_width": ""
     }
    },
    "fa0565eb39f540e3b37f0e0295d217f3": {
     "model_module": "@jupyter-widgets/controls",
     "model_module_version": "1.5.0",
     "model_name": "FloatProgressModel",
     "state": {
      "_dom_classes": [],
      "_model_module": "@jupyter-widgets/controls",
      "_model_module_version": "1.5.0",
      "_model_name": "FloatProgressModel",
      "_view_count": null,
      "_view_module": "@jupyter-widgets/controls",
      "_view_module_version": "1.5.0",
      "_view_name": "ProgressView",
      "bar_style": "success",
      "description": "",
      "description_tooltip": null,
      "layout": "IPY_MODEL_e1e0f3cbafb24cb1afcaac1aed965215",
      "max": 227,
      "min": 0,
      "orientation": "horizontal",
      "style": "IPY_MODEL_cc22475d38304b999cdbd6abc3ec5daa",
      "value": 227
     }
    }
   }
  }
 },
 "nbformat": 4,
 "nbformat_minor": 0
}
