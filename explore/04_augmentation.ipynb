{
  "nbformat": 4,
  "nbformat_minor": 0,
  "metadata": {
    "colab": {
      "provenance": [],
      "toc_visible": true
    },
    "kernelspec": {
      "name": "python3",
      "display_name": "Python 3"
    },
    "language_info": {
      "name": "python"
    },
    "widgets": {
      "application/vnd.jupyter.widget-state+json": {
        "eed562404d9645fb85596ec1a8737589": {
          "model_module": "@jupyter-widgets/controls",
          "model_name": "HBoxModel",
          "model_module_version": "1.5.0",
          "state": {
            "_dom_classes": [],
            "_model_module": "@jupyter-widgets/controls",
            "_model_module_version": "1.5.0",
            "_model_name": "HBoxModel",
            "_view_count": null,
            "_view_module": "@jupyter-widgets/controls",
            "_view_module_version": "1.5.0",
            "_view_name": "HBoxView",
            "box_style": "",
            "children": [
              "IPY_MODEL_f4602c53ebcd422e8d58090a3abd6de2",
              "IPY_MODEL_5517ffcc4bf8418ba14db3037ed3a05c",
              "IPY_MODEL_f2467a8cf154484a86c00edee22babf8"
            ],
            "layout": "IPY_MODEL_1ba0c0739fb24517b4109696df3d9824"
          }
        },
        "f4602c53ebcd422e8d58090a3abd6de2": {
          "model_module": "@jupyter-widgets/controls",
          "model_name": "HTMLModel",
          "model_module_version": "1.5.0",
          "state": {
            "_dom_classes": [],
            "_model_module": "@jupyter-widgets/controls",
            "_model_module_version": "1.5.0",
            "_model_name": "HTMLModel",
            "_view_count": null,
            "_view_module": "@jupyter-widgets/controls",
            "_view_module_version": "1.5.0",
            "_view_name": "HTMLView",
            "description": "",
            "description_tooltip": null,
            "layout": "IPY_MODEL_df0ca504f8234960bef102b9d80660fb",
            "placeholder": "​",
            "style": "IPY_MODEL_92413f56a7c2496e83ecc618b290a5cd",
            "value": "100%"
          }
        },
        "5517ffcc4bf8418ba14db3037ed3a05c": {
          "model_module": "@jupyter-widgets/controls",
          "model_name": "FloatProgressModel",
          "model_module_version": "1.5.0",
          "state": {
            "_dom_classes": [],
            "_model_module": "@jupyter-widgets/controls",
            "_model_module_version": "1.5.0",
            "_model_name": "FloatProgressModel",
            "_view_count": null,
            "_view_module": "@jupyter-widgets/controls",
            "_view_module_version": "1.5.0",
            "_view_name": "ProgressView",
            "bar_style": "success",
            "description": "",
            "description_tooltip": null,
            "layout": "IPY_MODEL_ae9acc7df02e4755ae3a37e20fb6ffb5",
            "max": 22260,
            "min": 0,
            "orientation": "horizontal",
            "style": "IPY_MODEL_cc9a6a736f22447e8e4298d00b4069db",
            "value": 22260
          }
        },
        "f2467a8cf154484a86c00edee22babf8": {
          "model_module": "@jupyter-widgets/controls",
          "model_name": "HTMLModel",
          "model_module_version": "1.5.0",
          "state": {
            "_dom_classes": [],
            "_model_module": "@jupyter-widgets/controls",
            "_model_module_version": "1.5.0",
            "_model_name": "HTMLModel",
            "_view_count": null,
            "_view_module": "@jupyter-widgets/controls",
            "_view_module_version": "1.5.0",
            "_view_name": "HTMLView",
            "description": "",
            "description_tooltip": null,
            "layout": "IPY_MODEL_5110adacfaa94e76995653e54bf5070a",
            "placeholder": "​",
            "style": "IPY_MODEL_2bc9fccb55724725b0ed44352e05ee47",
            "value": " 22260/22260 [22:23&lt;00:00, 20.21it/s]"
          }
        },
        "1ba0c0739fb24517b4109696df3d9824": {
          "model_module": "@jupyter-widgets/base",
          "model_name": "LayoutModel",
          "model_module_version": "1.2.0",
          "state": {
            "_model_module": "@jupyter-widgets/base",
            "_model_module_version": "1.2.0",
            "_model_name": "LayoutModel",
            "_view_count": null,
            "_view_module": "@jupyter-widgets/base",
            "_view_module_version": "1.2.0",
            "_view_name": "LayoutView",
            "align_content": null,
            "align_items": null,
            "align_self": null,
            "border": null,
            "bottom": null,
            "display": null,
            "flex": null,
            "flex_flow": null,
            "grid_area": null,
            "grid_auto_columns": null,
            "grid_auto_flow": null,
            "grid_auto_rows": null,
            "grid_column": null,
            "grid_gap": null,
            "grid_row": null,
            "grid_template_areas": null,
            "grid_template_columns": null,
            "grid_template_rows": null,
            "height": null,
            "justify_content": null,
            "justify_items": null,
            "left": null,
            "margin": null,
            "max_height": null,
            "max_width": null,
            "min_height": null,
            "min_width": null,
            "object_fit": null,
            "object_position": null,
            "order": null,
            "overflow": null,
            "overflow_x": null,
            "overflow_y": null,
            "padding": null,
            "right": null,
            "top": null,
            "visibility": null,
            "width": null
          }
        },
        "df0ca504f8234960bef102b9d80660fb": {
          "model_module": "@jupyter-widgets/base",
          "model_name": "LayoutModel",
          "model_module_version": "1.2.0",
          "state": {
            "_model_module": "@jupyter-widgets/base",
            "_model_module_version": "1.2.0",
            "_model_name": "LayoutModel",
            "_view_count": null,
            "_view_module": "@jupyter-widgets/base",
            "_view_module_version": "1.2.0",
            "_view_name": "LayoutView",
            "align_content": null,
            "align_items": null,
            "align_self": null,
            "border": null,
            "bottom": null,
            "display": null,
            "flex": null,
            "flex_flow": null,
            "grid_area": null,
            "grid_auto_columns": null,
            "grid_auto_flow": null,
            "grid_auto_rows": null,
            "grid_column": null,
            "grid_gap": null,
            "grid_row": null,
            "grid_template_areas": null,
            "grid_template_columns": null,
            "grid_template_rows": null,
            "height": null,
            "justify_content": null,
            "justify_items": null,
            "left": null,
            "margin": null,
            "max_height": null,
            "max_width": null,
            "min_height": null,
            "min_width": null,
            "object_fit": null,
            "object_position": null,
            "order": null,
            "overflow": null,
            "overflow_x": null,
            "overflow_y": null,
            "padding": null,
            "right": null,
            "top": null,
            "visibility": null,
            "width": null
          }
        },
        "92413f56a7c2496e83ecc618b290a5cd": {
          "model_module": "@jupyter-widgets/controls",
          "model_name": "DescriptionStyleModel",
          "model_module_version": "1.5.0",
          "state": {
            "_model_module": "@jupyter-widgets/controls",
            "_model_module_version": "1.5.0",
            "_model_name": "DescriptionStyleModel",
            "_view_count": null,
            "_view_module": "@jupyter-widgets/base",
            "_view_module_version": "1.2.0",
            "_view_name": "StyleView",
            "description_width": ""
          }
        },
        "ae9acc7df02e4755ae3a37e20fb6ffb5": {
          "model_module": "@jupyter-widgets/base",
          "model_name": "LayoutModel",
          "model_module_version": "1.2.0",
          "state": {
            "_model_module": "@jupyter-widgets/base",
            "_model_module_version": "1.2.0",
            "_model_name": "LayoutModel",
            "_view_count": null,
            "_view_module": "@jupyter-widgets/base",
            "_view_module_version": "1.2.0",
            "_view_name": "LayoutView",
            "align_content": null,
            "align_items": null,
            "align_self": null,
            "border": null,
            "bottom": null,
            "display": null,
            "flex": null,
            "flex_flow": null,
            "grid_area": null,
            "grid_auto_columns": null,
            "grid_auto_flow": null,
            "grid_auto_rows": null,
            "grid_column": null,
            "grid_gap": null,
            "grid_row": null,
            "grid_template_areas": null,
            "grid_template_columns": null,
            "grid_template_rows": null,
            "height": null,
            "justify_content": null,
            "justify_items": null,
            "left": null,
            "margin": null,
            "max_height": null,
            "max_width": null,
            "min_height": null,
            "min_width": null,
            "object_fit": null,
            "object_position": null,
            "order": null,
            "overflow": null,
            "overflow_x": null,
            "overflow_y": null,
            "padding": null,
            "right": null,
            "top": null,
            "visibility": null,
            "width": null
          }
        },
        "cc9a6a736f22447e8e4298d00b4069db": {
          "model_module": "@jupyter-widgets/controls",
          "model_name": "ProgressStyleModel",
          "model_module_version": "1.5.0",
          "state": {
            "_model_module": "@jupyter-widgets/controls",
            "_model_module_version": "1.5.0",
            "_model_name": "ProgressStyleModel",
            "_view_count": null,
            "_view_module": "@jupyter-widgets/base",
            "_view_module_version": "1.2.0",
            "_view_name": "StyleView",
            "bar_color": null,
            "description_width": ""
          }
        },
        "5110adacfaa94e76995653e54bf5070a": {
          "model_module": "@jupyter-widgets/base",
          "model_name": "LayoutModel",
          "model_module_version": "1.2.0",
          "state": {
            "_model_module": "@jupyter-widgets/base",
            "_model_module_version": "1.2.0",
            "_model_name": "LayoutModel",
            "_view_count": null,
            "_view_module": "@jupyter-widgets/base",
            "_view_module_version": "1.2.0",
            "_view_name": "LayoutView",
            "align_content": null,
            "align_items": null,
            "align_self": null,
            "border": null,
            "bottom": null,
            "display": null,
            "flex": null,
            "flex_flow": null,
            "grid_area": null,
            "grid_auto_columns": null,
            "grid_auto_flow": null,
            "grid_auto_rows": null,
            "grid_column": null,
            "grid_gap": null,
            "grid_row": null,
            "grid_template_areas": null,
            "grid_template_columns": null,
            "grid_template_rows": null,
            "height": null,
            "justify_content": null,
            "justify_items": null,
            "left": null,
            "margin": null,
            "max_height": null,
            "max_width": null,
            "min_height": null,
            "min_width": null,
            "object_fit": null,
            "object_position": null,
            "order": null,
            "overflow": null,
            "overflow_x": null,
            "overflow_y": null,
            "padding": null,
            "right": null,
            "top": null,
            "visibility": null,
            "width": null
          }
        },
        "2bc9fccb55724725b0ed44352e05ee47": {
          "model_module": "@jupyter-widgets/controls",
          "model_name": "DescriptionStyleModel",
          "model_module_version": "1.5.0",
          "state": {
            "_model_module": "@jupyter-widgets/controls",
            "_model_module_version": "1.5.0",
            "_model_name": "DescriptionStyleModel",
            "_view_count": null,
            "_view_module": "@jupyter-widgets/base",
            "_view_module_version": "1.2.0",
            "_view_name": "StyleView",
            "description_width": ""
          }
        },
        "1e769b85201c4779ba7c05862e847517": {
          "model_module": "@jupyter-widgets/controls",
          "model_name": "HBoxModel",
          "model_module_version": "1.5.0",
          "state": {
            "_dom_classes": [],
            "_model_module": "@jupyter-widgets/controls",
            "_model_module_version": "1.5.0",
            "_model_name": "HBoxModel",
            "_view_count": null,
            "_view_module": "@jupyter-widgets/controls",
            "_view_module_version": "1.5.0",
            "_view_name": "HBoxView",
            "box_style": "",
            "children": [
              "IPY_MODEL_f3abd49e69a34629986380f5118bbbdf",
              "IPY_MODEL_86bbbca370dc4e9b9ee5087fc3db0faa",
              "IPY_MODEL_a49af0065b434f348ade37c79c28566e"
            ],
            "layout": "IPY_MODEL_a2e5ead3f80b4cd09bc48971d6abf354"
          }
        },
        "f3abd49e69a34629986380f5118bbbdf": {
          "model_module": "@jupyter-widgets/controls",
          "model_name": "HTMLModel",
          "model_module_version": "1.5.0",
          "state": {
            "_dom_classes": [],
            "_model_module": "@jupyter-widgets/controls",
            "_model_module_version": "1.5.0",
            "_model_name": "HTMLModel",
            "_view_count": null,
            "_view_module": "@jupyter-widgets/controls",
            "_view_module_version": "1.5.0",
            "_view_name": "HTMLView",
            "description": "",
            "description_tooltip": null,
            "layout": "IPY_MODEL_a01af378411742a69770e34439ee7be1",
            "placeholder": "​",
            "style": "IPY_MODEL_cc2a7aa154a1454196c9846dc10eb2b5",
            "value": "100%"
          }
        },
        "86bbbca370dc4e9b9ee5087fc3db0faa": {
          "model_module": "@jupyter-widgets/controls",
          "model_name": "FloatProgressModel",
          "model_module_version": "1.5.0",
          "state": {
            "_dom_classes": [],
            "_model_module": "@jupyter-widgets/controls",
            "_model_module_version": "1.5.0",
            "_model_name": "FloatProgressModel",
            "_view_count": null,
            "_view_module": "@jupyter-widgets/controls",
            "_view_module_version": "1.5.0",
            "_view_name": "ProgressView",
            "bar_style": "success",
            "description": "",
            "description_tooltip": null,
            "layout": "IPY_MODEL_b2d5d2f10b75483ca1912e704948412d",
            "max": 22260,
            "min": 0,
            "orientation": "horizontal",
            "style": "IPY_MODEL_e281ab199d6a43789e99dc9c20fb443f",
            "value": 22260
          }
        },
        "a49af0065b434f348ade37c79c28566e": {
          "model_module": "@jupyter-widgets/controls",
          "model_name": "HTMLModel",
          "model_module_version": "1.5.0",
          "state": {
            "_dom_classes": [],
            "_model_module": "@jupyter-widgets/controls",
            "_model_module_version": "1.5.0",
            "_model_name": "HTMLModel",
            "_view_count": null,
            "_view_module": "@jupyter-widgets/controls",
            "_view_module_version": "1.5.0",
            "_view_name": "HTMLView",
            "description": "",
            "description_tooltip": null,
            "layout": "IPY_MODEL_7130817d68814ed38c996549d92ba0e3",
            "placeholder": "​",
            "style": "IPY_MODEL_1367e19b07084a66a42b97376e36ad46",
            "value": " 22260/22260 [00:07&lt;00:00, 4712.89it/s]"
          }
        },
        "a2e5ead3f80b4cd09bc48971d6abf354": {
          "model_module": "@jupyter-widgets/base",
          "model_name": "LayoutModel",
          "model_module_version": "1.2.0",
          "state": {
            "_model_module": "@jupyter-widgets/base",
            "_model_module_version": "1.2.0",
            "_model_name": "LayoutModel",
            "_view_count": null,
            "_view_module": "@jupyter-widgets/base",
            "_view_module_version": "1.2.0",
            "_view_name": "LayoutView",
            "align_content": null,
            "align_items": null,
            "align_self": null,
            "border": null,
            "bottom": null,
            "display": null,
            "flex": null,
            "flex_flow": null,
            "grid_area": null,
            "grid_auto_columns": null,
            "grid_auto_flow": null,
            "grid_auto_rows": null,
            "grid_column": null,
            "grid_gap": null,
            "grid_row": null,
            "grid_template_areas": null,
            "grid_template_columns": null,
            "grid_template_rows": null,
            "height": null,
            "justify_content": null,
            "justify_items": null,
            "left": null,
            "margin": null,
            "max_height": null,
            "max_width": null,
            "min_height": null,
            "min_width": null,
            "object_fit": null,
            "object_position": null,
            "order": null,
            "overflow": null,
            "overflow_x": null,
            "overflow_y": null,
            "padding": null,
            "right": null,
            "top": null,
            "visibility": null,
            "width": null
          }
        },
        "a01af378411742a69770e34439ee7be1": {
          "model_module": "@jupyter-widgets/base",
          "model_name": "LayoutModel",
          "model_module_version": "1.2.0",
          "state": {
            "_model_module": "@jupyter-widgets/base",
            "_model_module_version": "1.2.0",
            "_model_name": "LayoutModel",
            "_view_count": null,
            "_view_module": "@jupyter-widgets/base",
            "_view_module_version": "1.2.0",
            "_view_name": "LayoutView",
            "align_content": null,
            "align_items": null,
            "align_self": null,
            "border": null,
            "bottom": null,
            "display": null,
            "flex": null,
            "flex_flow": null,
            "grid_area": null,
            "grid_auto_columns": null,
            "grid_auto_flow": null,
            "grid_auto_rows": null,
            "grid_column": null,
            "grid_gap": null,
            "grid_row": null,
            "grid_template_areas": null,
            "grid_template_columns": null,
            "grid_template_rows": null,
            "height": null,
            "justify_content": null,
            "justify_items": null,
            "left": null,
            "margin": null,
            "max_height": null,
            "max_width": null,
            "min_height": null,
            "min_width": null,
            "object_fit": null,
            "object_position": null,
            "order": null,
            "overflow": null,
            "overflow_x": null,
            "overflow_y": null,
            "padding": null,
            "right": null,
            "top": null,
            "visibility": null,
            "width": null
          }
        },
        "cc2a7aa154a1454196c9846dc10eb2b5": {
          "model_module": "@jupyter-widgets/controls",
          "model_name": "DescriptionStyleModel",
          "model_module_version": "1.5.0",
          "state": {
            "_model_module": "@jupyter-widgets/controls",
            "_model_module_version": "1.5.0",
            "_model_name": "DescriptionStyleModel",
            "_view_count": null,
            "_view_module": "@jupyter-widgets/base",
            "_view_module_version": "1.2.0",
            "_view_name": "StyleView",
            "description_width": ""
          }
        },
        "b2d5d2f10b75483ca1912e704948412d": {
          "model_module": "@jupyter-widgets/base",
          "model_name": "LayoutModel",
          "model_module_version": "1.2.0",
          "state": {
            "_model_module": "@jupyter-widgets/base",
            "_model_module_version": "1.2.0",
            "_model_name": "LayoutModel",
            "_view_count": null,
            "_view_module": "@jupyter-widgets/base",
            "_view_module_version": "1.2.0",
            "_view_name": "LayoutView",
            "align_content": null,
            "align_items": null,
            "align_self": null,
            "border": null,
            "bottom": null,
            "display": null,
            "flex": null,
            "flex_flow": null,
            "grid_area": null,
            "grid_auto_columns": null,
            "grid_auto_flow": null,
            "grid_auto_rows": null,
            "grid_column": null,
            "grid_gap": null,
            "grid_row": null,
            "grid_template_areas": null,
            "grid_template_columns": null,
            "grid_template_rows": null,
            "height": null,
            "justify_content": null,
            "justify_items": null,
            "left": null,
            "margin": null,
            "max_height": null,
            "max_width": null,
            "min_height": null,
            "min_width": null,
            "object_fit": null,
            "object_position": null,
            "order": null,
            "overflow": null,
            "overflow_x": null,
            "overflow_y": null,
            "padding": null,
            "right": null,
            "top": null,
            "visibility": null,
            "width": null
          }
        },
        "e281ab199d6a43789e99dc9c20fb443f": {
          "model_module": "@jupyter-widgets/controls",
          "model_name": "ProgressStyleModel",
          "model_module_version": "1.5.0",
          "state": {
            "_model_module": "@jupyter-widgets/controls",
            "_model_module_version": "1.5.0",
            "_model_name": "ProgressStyleModel",
            "_view_count": null,
            "_view_module": "@jupyter-widgets/base",
            "_view_module_version": "1.2.0",
            "_view_name": "StyleView",
            "bar_color": null,
            "description_width": ""
          }
        },
        "7130817d68814ed38c996549d92ba0e3": {
          "model_module": "@jupyter-widgets/base",
          "model_name": "LayoutModel",
          "model_module_version": "1.2.0",
          "state": {
            "_model_module": "@jupyter-widgets/base",
            "_model_module_version": "1.2.0",
            "_model_name": "LayoutModel",
            "_view_count": null,
            "_view_module": "@jupyter-widgets/base",
            "_view_module_version": "1.2.0",
            "_view_name": "LayoutView",
            "align_content": null,
            "align_items": null,
            "align_self": null,
            "border": null,
            "bottom": null,
            "display": null,
            "flex": null,
            "flex_flow": null,
            "grid_area": null,
            "grid_auto_columns": null,
            "grid_auto_flow": null,
            "grid_auto_rows": null,
            "grid_column": null,
            "grid_gap": null,
            "grid_row": null,
            "grid_template_areas": null,
            "grid_template_columns": null,
            "grid_template_rows": null,
            "height": null,
            "justify_content": null,
            "justify_items": null,
            "left": null,
            "margin": null,
            "max_height": null,
            "max_width": null,
            "min_height": null,
            "min_width": null,
            "object_fit": null,
            "object_position": null,
            "order": null,
            "overflow": null,
            "overflow_x": null,
            "overflow_y": null,
            "padding": null,
            "right": null,
            "top": null,
            "visibility": null,
            "width": null
          }
        },
        "1367e19b07084a66a42b97376e36ad46": {
          "model_module": "@jupyter-widgets/controls",
          "model_name": "DescriptionStyleModel",
          "model_module_version": "1.5.0",
          "state": {
            "_model_module": "@jupyter-widgets/controls",
            "_model_module_version": "1.5.0",
            "_model_name": "DescriptionStyleModel",
            "_view_count": null,
            "_view_module": "@jupyter-widgets/base",
            "_view_module_version": "1.2.0",
            "_view_name": "StyleView",
            "description_width": ""
          }
        },
        "49eed8edb7134a44ad60aa7d711790b4": {
          "model_module": "@jupyter-widgets/controls",
          "model_name": "HBoxModel",
          "model_module_version": "1.5.0",
          "state": {
            "_dom_classes": [],
            "_model_module": "@jupyter-widgets/controls",
            "_model_module_version": "1.5.0",
            "_model_name": "HBoxModel",
            "_view_count": null,
            "_view_module": "@jupyter-widgets/controls",
            "_view_module_version": "1.5.0",
            "_view_name": "HBoxView",
            "box_style": "",
            "children": [
              "IPY_MODEL_574a1b9a38b446babbae79154e93b467",
              "IPY_MODEL_dd3482f5c74d448395305a0a206304f6",
              "IPY_MODEL_518a84c484b44717ba501f0457f14257"
            ],
            "layout": "IPY_MODEL_9566235baa264609808e9d08f41e5a03"
          }
        },
        "574a1b9a38b446babbae79154e93b467": {
          "model_module": "@jupyter-widgets/controls",
          "model_name": "HTMLModel",
          "model_module_version": "1.5.0",
          "state": {
            "_dom_classes": [],
            "_model_module": "@jupyter-widgets/controls",
            "_model_module_version": "1.5.0",
            "_model_name": "HTMLModel",
            "_view_count": null,
            "_view_module": "@jupyter-widgets/controls",
            "_view_module_version": "1.5.0",
            "_view_name": "HTMLView",
            "description": "",
            "description_tooltip": null,
            "layout": "IPY_MODEL_7871dbdb454444dba06ab8ffec90bed5",
            "placeholder": "​",
            "style": "IPY_MODEL_1499b16248df44dc9b5fade2b1d4ab50",
            "value": "100%"
          }
        },
        "dd3482f5c74d448395305a0a206304f6": {
          "model_module": "@jupyter-widgets/controls",
          "model_name": "FloatProgressModel",
          "model_module_version": "1.5.0",
          "state": {
            "_dom_classes": [],
            "_model_module": "@jupyter-widgets/controls",
            "_model_module_version": "1.5.0",
            "_model_name": "FloatProgressModel",
            "_view_count": null,
            "_view_module": "@jupyter-widgets/controls",
            "_view_module_version": "1.5.0",
            "_view_name": "ProgressView",
            "bar_style": "success",
            "description": "",
            "description_tooltip": null,
            "layout": "IPY_MODEL_94649430a7c0442a8db2b58a354dfb42",
            "max": 22260,
            "min": 0,
            "orientation": "horizontal",
            "style": "IPY_MODEL_f1c2fcff3f354422a5bce03c2d2deb41",
            "value": 22260
          }
        },
        "518a84c484b44717ba501f0457f14257": {
          "model_module": "@jupyter-widgets/controls",
          "model_name": "HTMLModel",
          "model_module_version": "1.5.0",
          "state": {
            "_dom_classes": [],
            "_model_module": "@jupyter-widgets/controls",
            "_model_module_version": "1.5.0",
            "_model_name": "HTMLModel",
            "_view_count": null,
            "_view_module": "@jupyter-widgets/controls",
            "_view_module_version": "1.5.0",
            "_view_name": "HTMLView",
            "description": "",
            "description_tooltip": null,
            "layout": "IPY_MODEL_045f1c581b9c4e63801ee86ed1419416",
            "placeholder": "​",
            "style": "IPY_MODEL_fae78d34c9b244e0a297143a9121b704",
            "value": " 22260/22260 [21:43&lt;00:00, 14.55it/s]"
          }
        },
        "9566235baa264609808e9d08f41e5a03": {
          "model_module": "@jupyter-widgets/base",
          "model_name": "LayoutModel",
          "model_module_version": "1.2.0",
          "state": {
            "_model_module": "@jupyter-widgets/base",
            "_model_module_version": "1.2.0",
            "_model_name": "LayoutModel",
            "_view_count": null,
            "_view_module": "@jupyter-widgets/base",
            "_view_module_version": "1.2.0",
            "_view_name": "LayoutView",
            "align_content": null,
            "align_items": null,
            "align_self": null,
            "border": null,
            "bottom": null,
            "display": null,
            "flex": null,
            "flex_flow": null,
            "grid_area": null,
            "grid_auto_columns": null,
            "grid_auto_flow": null,
            "grid_auto_rows": null,
            "grid_column": null,
            "grid_gap": null,
            "grid_row": null,
            "grid_template_areas": null,
            "grid_template_columns": null,
            "grid_template_rows": null,
            "height": null,
            "justify_content": null,
            "justify_items": null,
            "left": null,
            "margin": null,
            "max_height": null,
            "max_width": null,
            "min_height": null,
            "min_width": null,
            "object_fit": null,
            "object_position": null,
            "order": null,
            "overflow": null,
            "overflow_x": null,
            "overflow_y": null,
            "padding": null,
            "right": null,
            "top": null,
            "visibility": null,
            "width": null
          }
        },
        "7871dbdb454444dba06ab8ffec90bed5": {
          "model_module": "@jupyter-widgets/base",
          "model_name": "LayoutModel",
          "model_module_version": "1.2.0",
          "state": {
            "_model_module": "@jupyter-widgets/base",
            "_model_module_version": "1.2.0",
            "_model_name": "LayoutModel",
            "_view_count": null,
            "_view_module": "@jupyter-widgets/base",
            "_view_module_version": "1.2.0",
            "_view_name": "LayoutView",
            "align_content": null,
            "align_items": null,
            "align_self": null,
            "border": null,
            "bottom": null,
            "display": null,
            "flex": null,
            "flex_flow": null,
            "grid_area": null,
            "grid_auto_columns": null,
            "grid_auto_flow": null,
            "grid_auto_rows": null,
            "grid_column": null,
            "grid_gap": null,
            "grid_row": null,
            "grid_template_areas": null,
            "grid_template_columns": null,
            "grid_template_rows": null,
            "height": null,
            "justify_content": null,
            "justify_items": null,
            "left": null,
            "margin": null,
            "max_height": null,
            "max_width": null,
            "min_height": null,
            "min_width": null,
            "object_fit": null,
            "object_position": null,
            "order": null,
            "overflow": null,
            "overflow_x": null,
            "overflow_y": null,
            "padding": null,
            "right": null,
            "top": null,
            "visibility": null,
            "width": null
          }
        },
        "1499b16248df44dc9b5fade2b1d4ab50": {
          "model_module": "@jupyter-widgets/controls",
          "model_name": "DescriptionStyleModel",
          "model_module_version": "1.5.0",
          "state": {
            "_model_module": "@jupyter-widgets/controls",
            "_model_module_version": "1.5.0",
            "_model_name": "DescriptionStyleModel",
            "_view_count": null,
            "_view_module": "@jupyter-widgets/base",
            "_view_module_version": "1.2.0",
            "_view_name": "StyleView",
            "description_width": ""
          }
        },
        "94649430a7c0442a8db2b58a354dfb42": {
          "model_module": "@jupyter-widgets/base",
          "model_name": "LayoutModel",
          "model_module_version": "1.2.0",
          "state": {
            "_model_module": "@jupyter-widgets/base",
            "_model_module_version": "1.2.0",
            "_model_name": "LayoutModel",
            "_view_count": null,
            "_view_module": "@jupyter-widgets/base",
            "_view_module_version": "1.2.0",
            "_view_name": "LayoutView",
            "align_content": null,
            "align_items": null,
            "align_self": null,
            "border": null,
            "bottom": null,
            "display": null,
            "flex": null,
            "flex_flow": null,
            "grid_area": null,
            "grid_auto_columns": null,
            "grid_auto_flow": null,
            "grid_auto_rows": null,
            "grid_column": null,
            "grid_gap": null,
            "grid_row": null,
            "grid_template_areas": null,
            "grid_template_columns": null,
            "grid_template_rows": null,
            "height": null,
            "justify_content": null,
            "justify_items": null,
            "left": null,
            "margin": null,
            "max_height": null,
            "max_width": null,
            "min_height": null,
            "min_width": null,
            "object_fit": null,
            "object_position": null,
            "order": null,
            "overflow": null,
            "overflow_x": null,
            "overflow_y": null,
            "padding": null,
            "right": null,
            "top": null,
            "visibility": null,
            "width": null
          }
        },
        "f1c2fcff3f354422a5bce03c2d2deb41": {
          "model_module": "@jupyter-widgets/controls",
          "model_name": "ProgressStyleModel",
          "model_module_version": "1.5.0",
          "state": {
            "_model_module": "@jupyter-widgets/controls",
            "_model_module_version": "1.5.0",
            "_model_name": "ProgressStyleModel",
            "_view_count": null,
            "_view_module": "@jupyter-widgets/base",
            "_view_module_version": "1.2.0",
            "_view_name": "StyleView",
            "bar_color": null,
            "description_width": ""
          }
        },
        "045f1c581b9c4e63801ee86ed1419416": {
          "model_module": "@jupyter-widgets/base",
          "model_name": "LayoutModel",
          "model_module_version": "1.2.0",
          "state": {
            "_model_module": "@jupyter-widgets/base",
            "_model_module_version": "1.2.0",
            "_model_name": "LayoutModel",
            "_view_count": null,
            "_view_module": "@jupyter-widgets/base",
            "_view_module_version": "1.2.0",
            "_view_name": "LayoutView",
            "align_content": null,
            "align_items": null,
            "align_self": null,
            "border": null,
            "bottom": null,
            "display": null,
            "flex": null,
            "flex_flow": null,
            "grid_area": null,
            "grid_auto_columns": null,
            "grid_auto_flow": null,
            "grid_auto_rows": null,
            "grid_column": null,
            "grid_gap": null,
            "grid_row": null,
            "grid_template_areas": null,
            "grid_template_columns": null,
            "grid_template_rows": null,
            "height": null,
            "justify_content": null,
            "justify_items": null,
            "left": null,
            "margin": null,
            "max_height": null,
            "max_width": null,
            "min_height": null,
            "min_width": null,
            "object_fit": null,
            "object_position": null,
            "order": null,
            "overflow": null,
            "overflow_x": null,
            "overflow_y": null,
            "padding": null,
            "right": null,
            "top": null,
            "visibility": null,
            "width": null
          }
        },
        "fae78d34c9b244e0a297143a9121b704": {
          "model_module": "@jupyter-widgets/controls",
          "model_name": "DescriptionStyleModel",
          "model_module_version": "1.5.0",
          "state": {
            "_model_module": "@jupyter-widgets/controls",
            "_model_module_version": "1.5.0",
            "_model_name": "DescriptionStyleModel",
            "_view_count": null,
            "_view_module": "@jupyter-widgets/base",
            "_view_module_version": "1.2.0",
            "_view_name": "StyleView",
            "description_width": ""
          }
        },
        "ffd6c150838d4d8b92ce69881701661e": {
          "model_module": "@jupyter-widgets/controls",
          "model_name": "HBoxModel",
          "model_module_version": "1.5.0",
          "state": {
            "_dom_classes": [],
            "_model_module": "@jupyter-widgets/controls",
            "_model_module_version": "1.5.0",
            "_model_name": "HBoxModel",
            "_view_count": null,
            "_view_module": "@jupyter-widgets/controls",
            "_view_module_version": "1.5.0",
            "_view_name": "HBoxView",
            "box_style": "",
            "children": [
              "IPY_MODEL_5528b679aeb247e2aab88a7c4a81aa55",
              "IPY_MODEL_8d5602a63c504eca83aead6f72582572",
              "IPY_MODEL_fcd7172c0e104100b63d379236ef3d15"
            ],
            "layout": "IPY_MODEL_622a3f61b7c34a18aec8eb5a8eb302af"
          }
        },
        "5528b679aeb247e2aab88a7c4a81aa55": {
          "model_module": "@jupyter-widgets/controls",
          "model_name": "HTMLModel",
          "model_module_version": "1.5.0",
          "state": {
            "_dom_classes": [],
            "_model_module": "@jupyter-widgets/controls",
            "_model_module_version": "1.5.0",
            "_model_name": "HTMLModel",
            "_view_count": null,
            "_view_module": "@jupyter-widgets/controls",
            "_view_module_version": "1.5.0",
            "_view_name": "HTMLView",
            "description": "",
            "description_tooltip": null,
            "layout": "IPY_MODEL_045bb6fd31aa4ee6ae3528dc2d41f9e9",
            "placeholder": "​",
            "style": "IPY_MODEL_80c5ceb99cdb41bdb9a0bdf4de8bcb78",
            "value": "100%"
          }
        },
        "8d5602a63c504eca83aead6f72582572": {
          "model_module": "@jupyter-widgets/controls",
          "model_name": "FloatProgressModel",
          "model_module_version": "1.5.0",
          "state": {
            "_dom_classes": [],
            "_model_module": "@jupyter-widgets/controls",
            "_model_module_version": "1.5.0",
            "_model_name": "FloatProgressModel",
            "_view_count": null,
            "_view_module": "@jupyter-widgets/controls",
            "_view_module_version": "1.5.0",
            "_view_name": "ProgressView",
            "bar_style": "success",
            "description": "",
            "description_tooltip": null,
            "layout": "IPY_MODEL_2c3d2832af4c400492c35b49a57ef576",
            "max": 22260,
            "min": 0,
            "orientation": "horizontal",
            "style": "IPY_MODEL_f2bcb7246fb845a58c933b51fe871458",
            "value": 22260
          }
        },
        "fcd7172c0e104100b63d379236ef3d15": {
          "model_module": "@jupyter-widgets/controls",
          "model_name": "HTMLModel",
          "model_module_version": "1.5.0",
          "state": {
            "_dom_classes": [],
            "_model_module": "@jupyter-widgets/controls",
            "_model_module_version": "1.5.0",
            "_model_name": "HTMLModel",
            "_view_count": null,
            "_view_module": "@jupyter-widgets/controls",
            "_view_module_version": "1.5.0",
            "_view_name": "HTMLView",
            "description": "",
            "description_tooltip": null,
            "layout": "IPY_MODEL_9f00b71d47064773a26663378302d720",
            "placeholder": "​",
            "style": "IPY_MODEL_fc5719c179ff45bbaee614f4e91a5a85",
            "value": " 22260/22260 [00:09&lt;00:00, 1754.58it/s]"
          }
        },
        "622a3f61b7c34a18aec8eb5a8eb302af": {
          "model_module": "@jupyter-widgets/base",
          "model_name": "LayoutModel",
          "model_module_version": "1.2.0",
          "state": {
            "_model_module": "@jupyter-widgets/base",
            "_model_module_version": "1.2.0",
            "_model_name": "LayoutModel",
            "_view_count": null,
            "_view_module": "@jupyter-widgets/base",
            "_view_module_version": "1.2.0",
            "_view_name": "LayoutView",
            "align_content": null,
            "align_items": null,
            "align_self": null,
            "border": null,
            "bottom": null,
            "display": null,
            "flex": null,
            "flex_flow": null,
            "grid_area": null,
            "grid_auto_columns": null,
            "grid_auto_flow": null,
            "grid_auto_rows": null,
            "grid_column": null,
            "grid_gap": null,
            "grid_row": null,
            "grid_template_areas": null,
            "grid_template_columns": null,
            "grid_template_rows": null,
            "height": null,
            "justify_content": null,
            "justify_items": null,
            "left": null,
            "margin": null,
            "max_height": null,
            "max_width": null,
            "min_height": null,
            "min_width": null,
            "object_fit": null,
            "object_position": null,
            "order": null,
            "overflow": null,
            "overflow_x": null,
            "overflow_y": null,
            "padding": null,
            "right": null,
            "top": null,
            "visibility": null,
            "width": null
          }
        },
        "045bb6fd31aa4ee6ae3528dc2d41f9e9": {
          "model_module": "@jupyter-widgets/base",
          "model_name": "LayoutModel",
          "model_module_version": "1.2.0",
          "state": {
            "_model_module": "@jupyter-widgets/base",
            "_model_module_version": "1.2.0",
            "_model_name": "LayoutModel",
            "_view_count": null,
            "_view_module": "@jupyter-widgets/base",
            "_view_module_version": "1.2.0",
            "_view_name": "LayoutView",
            "align_content": null,
            "align_items": null,
            "align_self": null,
            "border": null,
            "bottom": null,
            "display": null,
            "flex": null,
            "flex_flow": null,
            "grid_area": null,
            "grid_auto_columns": null,
            "grid_auto_flow": null,
            "grid_auto_rows": null,
            "grid_column": null,
            "grid_gap": null,
            "grid_row": null,
            "grid_template_areas": null,
            "grid_template_columns": null,
            "grid_template_rows": null,
            "height": null,
            "justify_content": null,
            "justify_items": null,
            "left": null,
            "margin": null,
            "max_height": null,
            "max_width": null,
            "min_height": null,
            "min_width": null,
            "object_fit": null,
            "object_position": null,
            "order": null,
            "overflow": null,
            "overflow_x": null,
            "overflow_y": null,
            "padding": null,
            "right": null,
            "top": null,
            "visibility": null,
            "width": null
          }
        },
        "80c5ceb99cdb41bdb9a0bdf4de8bcb78": {
          "model_module": "@jupyter-widgets/controls",
          "model_name": "DescriptionStyleModel",
          "model_module_version": "1.5.0",
          "state": {
            "_model_module": "@jupyter-widgets/controls",
            "_model_module_version": "1.5.0",
            "_model_name": "DescriptionStyleModel",
            "_view_count": null,
            "_view_module": "@jupyter-widgets/base",
            "_view_module_version": "1.2.0",
            "_view_name": "StyleView",
            "description_width": ""
          }
        },
        "2c3d2832af4c400492c35b49a57ef576": {
          "model_module": "@jupyter-widgets/base",
          "model_name": "LayoutModel",
          "model_module_version": "1.2.0",
          "state": {
            "_model_module": "@jupyter-widgets/base",
            "_model_module_version": "1.2.0",
            "_model_name": "LayoutModel",
            "_view_count": null,
            "_view_module": "@jupyter-widgets/base",
            "_view_module_version": "1.2.0",
            "_view_name": "LayoutView",
            "align_content": null,
            "align_items": null,
            "align_self": null,
            "border": null,
            "bottom": null,
            "display": null,
            "flex": null,
            "flex_flow": null,
            "grid_area": null,
            "grid_auto_columns": null,
            "grid_auto_flow": null,
            "grid_auto_rows": null,
            "grid_column": null,
            "grid_gap": null,
            "grid_row": null,
            "grid_template_areas": null,
            "grid_template_columns": null,
            "grid_template_rows": null,
            "height": null,
            "justify_content": null,
            "justify_items": null,
            "left": null,
            "margin": null,
            "max_height": null,
            "max_width": null,
            "min_height": null,
            "min_width": null,
            "object_fit": null,
            "object_position": null,
            "order": null,
            "overflow": null,
            "overflow_x": null,
            "overflow_y": null,
            "padding": null,
            "right": null,
            "top": null,
            "visibility": null,
            "width": null
          }
        },
        "f2bcb7246fb845a58c933b51fe871458": {
          "model_module": "@jupyter-widgets/controls",
          "model_name": "ProgressStyleModel",
          "model_module_version": "1.5.0",
          "state": {
            "_model_module": "@jupyter-widgets/controls",
            "_model_module_version": "1.5.0",
            "_model_name": "ProgressStyleModel",
            "_view_count": null,
            "_view_module": "@jupyter-widgets/base",
            "_view_module_version": "1.2.0",
            "_view_name": "StyleView",
            "bar_color": null,
            "description_width": ""
          }
        },
        "9f00b71d47064773a26663378302d720": {
          "model_module": "@jupyter-widgets/base",
          "model_name": "LayoutModel",
          "model_module_version": "1.2.0",
          "state": {
            "_model_module": "@jupyter-widgets/base",
            "_model_module_version": "1.2.0",
            "_model_name": "LayoutModel",
            "_view_count": null,
            "_view_module": "@jupyter-widgets/base",
            "_view_module_version": "1.2.0",
            "_view_name": "LayoutView",
            "align_content": null,
            "align_items": null,
            "align_self": null,
            "border": null,
            "bottom": null,
            "display": null,
            "flex": null,
            "flex_flow": null,
            "grid_area": null,
            "grid_auto_columns": null,
            "grid_auto_flow": null,
            "grid_auto_rows": null,
            "grid_column": null,
            "grid_gap": null,
            "grid_row": null,
            "grid_template_areas": null,
            "grid_template_columns": null,
            "grid_template_rows": null,
            "height": null,
            "justify_content": null,
            "justify_items": null,
            "left": null,
            "margin": null,
            "max_height": null,
            "max_width": null,
            "min_height": null,
            "min_width": null,
            "object_fit": null,
            "object_position": null,
            "order": null,
            "overflow": null,
            "overflow_x": null,
            "overflow_y": null,
            "padding": null,
            "right": null,
            "top": null,
            "visibility": null,
            "width": null
          }
        },
        "fc5719c179ff45bbaee614f4e91a5a85": {
          "model_module": "@jupyter-widgets/controls",
          "model_name": "DescriptionStyleModel",
          "model_module_version": "1.5.0",
          "state": {
            "_model_module": "@jupyter-widgets/controls",
            "_model_module_version": "1.5.0",
            "_model_name": "DescriptionStyleModel",
            "_view_count": null,
            "_view_module": "@jupyter-widgets/base",
            "_view_module_version": "1.2.0",
            "_view_name": "StyleView",
            "description_width": ""
          }
        },
        "69bf4823588446e29c58a680130b57b2": {
          "model_module": "@jupyter-widgets/controls",
          "model_name": "HBoxModel",
          "model_module_version": "1.5.0",
          "state": {
            "_dom_classes": [],
            "_model_module": "@jupyter-widgets/controls",
            "_model_module_version": "1.5.0",
            "_model_name": "HBoxModel",
            "_view_count": null,
            "_view_module": "@jupyter-widgets/controls",
            "_view_module_version": "1.5.0",
            "_view_name": "HBoxView",
            "box_style": "",
            "children": [
              "IPY_MODEL_326bf71938134b8d8013437c9c1420d1",
              "IPY_MODEL_ecfe27252bdf4b98999aa99678f72792",
              "IPY_MODEL_e9114a63f58a481f98975ec31232092a"
            ],
            "layout": "IPY_MODEL_f1f7c5cc397e4eedba5df6580a5efc43"
          }
        },
        "326bf71938134b8d8013437c9c1420d1": {
          "model_module": "@jupyter-widgets/controls",
          "model_name": "HTMLModel",
          "model_module_version": "1.5.0",
          "state": {
            "_dom_classes": [],
            "_model_module": "@jupyter-widgets/controls",
            "_model_module_version": "1.5.0",
            "_model_name": "HTMLModel",
            "_view_count": null,
            "_view_module": "@jupyter-widgets/controls",
            "_view_module_version": "1.5.0",
            "_view_name": "HTMLView",
            "description": "",
            "description_tooltip": null,
            "layout": "IPY_MODEL_f05d7bb567684500abaa78d4edc7df9f",
            "placeholder": "​",
            "style": "IPY_MODEL_119fca6ad8e64a6d90201ac022b029db",
            "value": "100%"
          }
        },
        "ecfe27252bdf4b98999aa99678f72792": {
          "model_module": "@jupyter-widgets/controls",
          "model_name": "FloatProgressModel",
          "model_module_version": "1.5.0",
          "state": {
            "_dom_classes": [],
            "_model_module": "@jupyter-widgets/controls",
            "_model_module_version": "1.5.0",
            "_model_name": "FloatProgressModel",
            "_view_count": null,
            "_view_module": "@jupyter-widgets/controls",
            "_view_module_version": "1.5.0",
            "_view_name": "ProgressView",
            "bar_style": "success",
            "description": "",
            "description_tooltip": null,
            "layout": "IPY_MODEL_4d3b2a8807e74492bff74ff044b682e5",
            "max": 22260,
            "min": 0,
            "orientation": "horizontal",
            "style": "IPY_MODEL_53d9ef22558b4f3386430bf50d682acd",
            "value": 22260
          }
        },
        "e9114a63f58a481f98975ec31232092a": {
          "model_module": "@jupyter-widgets/controls",
          "model_name": "HTMLModel",
          "model_module_version": "1.5.0",
          "state": {
            "_dom_classes": [],
            "_model_module": "@jupyter-widgets/controls",
            "_model_module_version": "1.5.0",
            "_model_name": "HTMLModel",
            "_view_count": null,
            "_view_module": "@jupyter-widgets/controls",
            "_view_module_version": "1.5.0",
            "_view_name": "HTMLView",
            "description": "",
            "description_tooltip": null,
            "layout": "IPY_MODEL_eb5df14b0e3b44179d5bdbea4632b04e",
            "placeholder": "​",
            "style": "IPY_MODEL_ce43ad949f4c46b1af830c6cb4183287",
            "value": " 22260/22260 [01:06&lt;00:00, 369.91it/s]"
          }
        },
        "f1f7c5cc397e4eedba5df6580a5efc43": {
          "model_module": "@jupyter-widgets/base",
          "model_name": "LayoutModel",
          "model_module_version": "1.2.0",
          "state": {
            "_model_module": "@jupyter-widgets/base",
            "_model_module_version": "1.2.0",
            "_model_name": "LayoutModel",
            "_view_count": null,
            "_view_module": "@jupyter-widgets/base",
            "_view_module_version": "1.2.0",
            "_view_name": "LayoutView",
            "align_content": null,
            "align_items": null,
            "align_self": null,
            "border": null,
            "bottom": null,
            "display": null,
            "flex": null,
            "flex_flow": null,
            "grid_area": null,
            "grid_auto_columns": null,
            "grid_auto_flow": null,
            "grid_auto_rows": null,
            "grid_column": null,
            "grid_gap": null,
            "grid_row": null,
            "grid_template_areas": null,
            "grid_template_columns": null,
            "grid_template_rows": null,
            "height": null,
            "justify_content": null,
            "justify_items": null,
            "left": null,
            "margin": null,
            "max_height": null,
            "max_width": null,
            "min_height": null,
            "min_width": null,
            "object_fit": null,
            "object_position": null,
            "order": null,
            "overflow": null,
            "overflow_x": null,
            "overflow_y": null,
            "padding": null,
            "right": null,
            "top": null,
            "visibility": null,
            "width": null
          }
        },
        "f05d7bb567684500abaa78d4edc7df9f": {
          "model_module": "@jupyter-widgets/base",
          "model_name": "LayoutModel",
          "model_module_version": "1.2.0",
          "state": {
            "_model_module": "@jupyter-widgets/base",
            "_model_module_version": "1.2.0",
            "_model_name": "LayoutModel",
            "_view_count": null,
            "_view_module": "@jupyter-widgets/base",
            "_view_module_version": "1.2.0",
            "_view_name": "LayoutView",
            "align_content": null,
            "align_items": null,
            "align_self": null,
            "border": null,
            "bottom": null,
            "display": null,
            "flex": null,
            "flex_flow": null,
            "grid_area": null,
            "grid_auto_columns": null,
            "grid_auto_flow": null,
            "grid_auto_rows": null,
            "grid_column": null,
            "grid_gap": null,
            "grid_row": null,
            "grid_template_areas": null,
            "grid_template_columns": null,
            "grid_template_rows": null,
            "height": null,
            "justify_content": null,
            "justify_items": null,
            "left": null,
            "margin": null,
            "max_height": null,
            "max_width": null,
            "min_height": null,
            "min_width": null,
            "object_fit": null,
            "object_position": null,
            "order": null,
            "overflow": null,
            "overflow_x": null,
            "overflow_y": null,
            "padding": null,
            "right": null,
            "top": null,
            "visibility": null,
            "width": null
          }
        },
        "119fca6ad8e64a6d90201ac022b029db": {
          "model_module": "@jupyter-widgets/controls",
          "model_name": "DescriptionStyleModel",
          "model_module_version": "1.5.0",
          "state": {
            "_model_module": "@jupyter-widgets/controls",
            "_model_module_version": "1.5.0",
            "_model_name": "DescriptionStyleModel",
            "_view_count": null,
            "_view_module": "@jupyter-widgets/base",
            "_view_module_version": "1.2.0",
            "_view_name": "StyleView",
            "description_width": ""
          }
        },
        "4d3b2a8807e74492bff74ff044b682e5": {
          "model_module": "@jupyter-widgets/base",
          "model_name": "LayoutModel",
          "model_module_version": "1.2.0",
          "state": {
            "_model_module": "@jupyter-widgets/base",
            "_model_module_version": "1.2.0",
            "_model_name": "LayoutModel",
            "_view_count": null,
            "_view_module": "@jupyter-widgets/base",
            "_view_module_version": "1.2.0",
            "_view_name": "LayoutView",
            "align_content": null,
            "align_items": null,
            "align_self": null,
            "border": null,
            "bottom": null,
            "display": null,
            "flex": null,
            "flex_flow": null,
            "grid_area": null,
            "grid_auto_columns": null,
            "grid_auto_flow": null,
            "grid_auto_rows": null,
            "grid_column": null,
            "grid_gap": null,
            "grid_row": null,
            "grid_template_areas": null,
            "grid_template_columns": null,
            "grid_template_rows": null,
            "height": null,
            "justify_content": null,
            "justify_items": null,
            "left": null,
            "margin": null,
            "max_height": null,
            "max_width": null,
            "min_height": null,
            "min_width": null,
            "object_fit": null,
            "object_position": null,
            "order": null,
            "overflow": null,
            "overflow_x": null,
            "overflow_y": null,
            "padding": null,
            "right": null,
            "top": null,
            "visibility": null,
            "width": null
          }
        },
        "53d9ef22558b4f3386430bf50d682acd": {
          "model_module": "@jupyter-widgets/controls",
          "model_name": "ProgressStyleModel",
          "model_module_version": "1.5.0",
          "state": {
            "_model_module": "@jupyter-widgets/controls",
            "_model_module_version": "1.5.0",
            "_model_name": "ProgressStyleModel",
            "_view_count": null,
            "_view_module": "@jupyter-widgets/base",
            "_view_module_version": "1.2.0",
            "_view_name": "StyleView",
            "bar_color": null,
            "description_width": ""
          }
        },
        "eb5df14b0e3b44179d5bdbea4632b04e": {
          "model_module": "@jupyter-widgets/base",
          "model_name": "LayoutModel",
          "model_module_version": "1.2.0",
          "state": {
            "_model_module": "@jupyter-widgets/base",
            "_model_module_version": "1.2.0",
            "_model_name": "LayoutModel",
            "_view_count": null,
            "_view_module": "@jupyter-widgets/base",
            "_view_module_version": "1.2.0",
            "_view_name": "LayoutView",
            "align_content": null,
            "align_items": null,
            "align_self": null,
            "border": null,
            "bottom": null,
            "display": null,
            "flex": null,
            "flex_flow": null,
            "grid_area": null,
            "grid_auto_columns": null,
            "grid_auto_flow": null,
            "grid_auto_rows": null,
            "grid_column": null,
            "grid_gap": null,
            "grid_row": null,
            "grid_template_areas": null,
            "grid_template_columns": null,
            "grid_template_rows": null,
            "height": null,
            "justify_content": null,
            "justify_items": null,
            "left": null,
            "margin": null,
            "max_height": null,
            "max_width": null,
            "min_height": null,
            "min_width": null,
            "object_fit": null,
            "object_position": null,
            "order": null,
            "overflow": null,
            "overflow_x": null,
            "overflow_y": null,
            "padding": null,
            "right": null,
            "top": null,
            "visibility": null,
            "width": null
          }
        },
        "ce43ad949f4c46b1af830c6cb4183287": {
          "model_module": "@jupyter-widgets/controls",
          "model_name": "DescriptionStyleModel",
          "model_module_version": "1.5.0",
          "state": {
            "_model_module": "@jupyter-widgets/controls",
            "_model_module_version": "1.5.0",
            "_model_name": "DescriptionStyleModel",
            "_view_count": null,
            "_view_module": "@jupyter-widgets/base",
            "_view_module_version": "1.2.0",
            "_view_name": "StyleView",
            "description_width": ""
          }
        },
        "732b66548eba4990b8c7e8a0317178d3": {
          "model_module": "@jupyter-widgets/controls",
          "model_name": "HBoxModel",
          "model_module_version": "1.5.0",
          "state": {
            "_dom_classes": [],
            "_model_module": "@jupyter-widgets/controls",
            "_model_module_version": "1.5.0",
            "_model_name": "HBoxModel",
            "_view_count": null,
            "_view_module": "@jupyter-widgets/controls",
            "_view_module_version": "1.5.0",
            "_view_name": "HBoxView",
            "box_style": "",
            "children": [
              "IPY_MODEL_f12a0b6cae51491fb7094c9f5e62018a",
              "IPY_MODEL_cda021d8650147d7a68a6b4c0592f4fa",
              "IPY_MODEL_f60e04392dbc49539f3eda5830c3a85b"
            ],
            "layout": "IPY_MODEL_5b6f0ba9b5f448618e73add38ac8fe1e"
          }
        },
        "f12a0b6cae51491fb7094c9f5e62018a": {
          "model_module": "@jupyter-widgets/controls",
          "model_name": "HTMLModel",
          "model_module_version": "1.5.0",
          "state": {
            "_dom_classes": [],
            "_model_module": "@jupyter-widgets/controls",
            "_model_module_version": "1.5.0",
            "_model_name": "HTMLModel",
            "_view_count": null,
            "_view_module": "@jupyter-widgets/controls",
            "_view_module_version": "1.5.0",
            "_view_name": "HTMLView",
            "description": "",
            "description_tooltip": null,
            "layout": "IPY_MODEL_566b0f0ce95641b2bc5927d6bd3174d7",
            "placeholder": "​",
            "style": "IPY_MODEL_203f194959124cb8ac19d370041a124a",
            "value": "100%"
          }
        },
        "cda021d8650147d7a68a6b4c0592f4fa": {
          "model_module": "@jupyter-widgets/controls",
          "model_name": "FloatProgressModel",
          "model_module_version": "1.5.0",
          "state": {
            "_dom_classes": [],
            "_model_module": "@jupyter-widgets/controls",
            "_model_module_version": "1.5.0",
            "_model_name": "FloatProgressModel",
            "_view_count": null,
            "_view_module": "@jupyter-widgets/controls",
            "_view_module_version": "1.5.0",
            "_view_name": "ProgressView",
            "bar_style": "success",
            "description": "",
            "description_tooltip": null,
            "layout": "IPY_MODEL_394f9aed30ab4dada668221ffaf59c11",
            "max": 22260,
            "min": 0,
            "orientation": "horizontal",
            "style": "IPY_MODEL_d8c1116ad6204d6d957cbddeb6a61191",
            "value": 22260
          }
        },
        "f60e04392dbc49539f3eda5830c3a85b": {
          "model_module": "@jupyter-widgets/controls",
          "model_name": "HTMLModel",
          "model_module_version": "1.5.0",
          "state": {
            "_dom_classes": [],
            "_model_module": "@jupyter-widgets/controls",
            "_model_module_version": "1.5.0",
            "_model_name": "HTMLModel",
            "_view_count": null,
            "_view_module": "@jupyter-widgets/controls",
            "_view_module_version": "1.5.0",
            "_view_name": "HTMLView",
            "description": "",
            "description_tooltip": null,
            "layout": "IPY_MODEL_51b941edd51241cab2aa8b542c00ab26",
            "placeholder": "​",
            "style": "IPY_MODEL_7bbbe405e204437cb3ed061d3053efbe",
            "value": " 22260/22260 [00:03&lt;00:00, 5906.55it/s]"
          }
        },
        "5b6f0ba9b5f448618e73add38ac8fe1e": {
          "model_module": "@jupyter-widgets/base",
          "model_name": "LayoutModel",
          "model_module_version": "1.2.0",
          "state": {
            "_model_module": "@jupyter-widgets/base",
            "_model_module_version": "1.2.0",
            "_model_name": "LayoutModel",
            "_view_count": null,
            "_view_module": "@jupyter-widgets/base",
            "_view_module_version": "1.2.0",
            "_view_name": "LayoutView",
            "align_content": null,
            "align_items": null,
            "align_self": null,
            "border": null,
            "bottom": null,
            "display": null,
            "flex": null,
            "flex_flow": null,
            "grid_area": null,
            "grid_auto_columns": null,
            "grid_auto_flow": null,
            "grid_auto_rows": null,
            "grid_column": null,
            "grid_gap": null,
            "grid_row": null,
            "grid_template_areas": null,
            "grid_template_columns": null,
            "grid_template_rows": null,
            "height": null,
            "justify_content": null,
            "justify_items": null,
            "left": null,
            "margin": null,
            "max_height": null,
            "max_width": null,
            "min_height": null,
            "min_width": null,
            "object_fit": null,
            "object_position": null,
            "order": null,
            "overflow": null,
            "overflow_x": null,
            "overflow_y": null,
            "padding": null,
            "right": null,
            "top": null,
            "visibility": null,
            "width": null
          }
        },
        "566b0f0ce95641b2bc5927d6bd3174d7": {
          "model_module": "@jupyter-widgets/base",
          "model_name": "LayoutModel",
          "model_module_version": "1.2.0",
          "state": {
            "_model_module": "@jupyter-widgets/base",
            "_model_module_version": "1.2.0",
            "_model_name": "LayoutModel",
            "_view_count": null,
            "_view_module": "@jupyter-widgets/base",
            "_view_module_version": "1.2.0",
            "_view_name": "LayoutView",
            "align_content": null,
            "align_items": null,
            "align_self": null,
            "border": null,
            "bottom": null,
            "display": null,
            "flex": null,
            "flex_flow": null,
            "grid_area": null,
            "grid_auto_columns": null,
            "grid_auto_flow": null,
            "grid_auto_rows": null,
            "grid_column": null,
            "grid_gap": null,
            "grid_row": null,
            "grid_template_areas": null,
            "grid_template_columns": null,
            "grid_template_rows": null,
            "height": null,
            "justify_content": null,
            "justify_items": null,
            "left": null,
            "margin": null,
            "max_height": null,
            "max_width": null,
            "min_height": null,
            "min_width": null,
            "object_fit": null,
            "object_position": null,
            "order": null,
            "overflow": null,
            "overflow_x": null,
            "overflow_y": null,
            "padding": null,
            "right": null,
            "top": null,
            "visibility": null,
            "width": null
          }
        },
        "203f194959124cb8ac19d370041a124a": {
          "model_module": "@jupyter-widgets/controls",
          "model_name": "DescriptionStyleModel",
          "model_module_version": "1.5.0",
          "state": {
            "_model_module": "@jupyter-widgets/controls",
            "_model_module_version": "1.5.0",
            "_model_name": "DescriptionStyleModel",
            "_view_count": null,
            "_view_module": "@jupyter-widgets/base",
            "_view_module_version": "1.2.0",
            "_view_name": "StyleView",
            "description_width": ""
          }
        },
        "394f9aed30ab4dada668221ffaf59c11": {
          "model_module": "@jupyter-widgets/base",
          "model_name": "LayoutModel",
          "model_module_version": "1.2.0",
          "state": {
            "_model_module": "@jupyter-widgets/base",
            "_model_module_version": "1.2.0",
            "_model_name": "LayoutModel",
            "_view_count": null,
            "_view_module": "@jupyter-widgets/base",
            "_view_module_version": "1.2.0",
            "_view_name": "LayoutView",
            "align_content": null,
            "align_items": null,
            "align_self": null,
            "border": null,
            "bottom": null,
            "display": null,
            "flex": null,
            "flex_flow": null,
            "grid_area": null,
            "grid_auto_columns": null,
            "grid_auto_flow": null,
            "grid_auto_rows": null,
            "grid_column": null,
            "grid_gap": null,
            "grid_row": null,
            "grid_template_areas": null,
            "grid_template_columns": null,
            "grid_template_rows": null,
            "height": null,
            "justify_content": null,
            "justify_items": null,
            "left": null,
            "margin": null,
            "max_height": null,
            "max_width": null,
            "min_height": null,
            "min_width": null,
            "object_fit": null,
            "object_position": null,
            "order": null,
            "overflow": null,
            "overflow_x": null,
            "overflow_y": null,
            "padding": null,
            "right": null,
            "top": null,
            "visibility": null,
            "width": null
          }
        },
        "d8c1116ad6204d6d957cbddeb6a61191": {
          "model_module": "@jupyter-widgets/controls",
          "model_name": "ProgressStyleModel",
          "model_module_version": "1.5.0",
          "state": {
            "_model_module": "@jupyter-widgets/controls",
            "_model_module_version": "1.5.0",
            "_model_name": "ProgressStyleModel",
            "_view_count": null,
            "_view_module": "@jupyter-widgets/base",
            "_view_module_version": "1.2.0",
            "_view_name": "StyleView",
            "bar_color": null,
            "description_width": ""
          }
        },
        "51b941edd51241cab2aa8b542c00ab26": {
          "model_module": "@jupyter-widgets/base",
          "model_name": "LayoutModel",
          "model_module_version": "1.2.0",
          "state": {
            "_model_module": "@jupyter-widgets/base",
            "_model_module_version": "1.2.0",
            "_model_name": "LayoutModel",
            "_view_count": null,
            "_view_module": "@jupyter-widgets/base",
            "_view_module_version": "1.2.0",
            "_view_name": "LayoutView",
            "align_content": null,
            "align_items": null,
            "align_self": null,
            "border": null,
            "bottom": null,
            "display": null,
            "flex": null,
            "flex_flow": null,
            "grid_area": null,
            "grid_auto_columns": null,
            "grid_auto_flow": null,
            "grid_auto_rows": null,
            "grid_column": null,
            "grid_gap": null,
            "grid_row": null,
            "grid_template_areas": null,
            "grid_template_columns": null,
            "grid_template_rows": null,
            "height": null,
            "justify_content": null,
            "justify_items": null,
            "left": null,
            "margin": null,
            "max_height": null,
            "max_width": null,
            "min_height": null,
            "min_width": null,
            "object_fit": null,
            "object_position": null,
            "order": null,
            "overflow": null,
            "overflow_x": null,
            "overflow_y": null,
            "padding": null,
            "right": null,
            "top": null,
            "visibility": null,
            "width": null
          }
        },
        "7bbbe405e204437cb3ed061d3053efbe": {
          "model_module": "@jupyter-widgets/controls",
          "model_name": "DescriptionStyleModel",
          "model_module_version": "1.5.0",
          "state": {
            "_model_module": "@jupyter-widgets/controls",
            "_model_module_version": "1.5.0",
            "_model_name": "DescriptionStyleModel",
            "_view_count": null,
            "_view_module": "@jupyter-widgets/base",
            "_view_module_version": "1.2.0",
            "_view_name": "StyleView",
            "description_width": ""
          }
        },
        "c07ffeb5d5e14b5ab865a0499de46488": {
          "model_module": "@jupyter-widgets/controls",
          "model_name": "HBoxModel",
          "model_module_version": "1.5.0",
          "state": {
            "_dom_classes": [],
            "_model_module": "@jupyter-widgets/controls",
            "_model_module_version": "1.5.0",
            "_model_name": "HBoxModel",
            "_view_count": null,
            "_view_module": "@jupyter-widgets/controls",
            "_view_module_version": "1.5.0",
            "_view_name": "HBoxView",
            "box_style": "",
            "children": [
              "IPY_MODEL_a098805a041e4e2ea1e83ff1874da97e",
              "IPY_MODEL_ca2e644fb6594e038327d8d5dc7cc980",
              "IPY_MODEL_cc126c40ffd04ceb925a70cf20775b39"
            ],
            "layout": "IPY_MODEL_c613629fd4224629b55aec56ba63d658"
          }
        },
        "a098805a041e4e2ea1e83ff1874da97e": {
          "model_module": "@jupyter-widgets/controls",
          "model_name": "HTMLModel",
          "model_module_version": "1.5.0",
          "state": {
            "_dom_classes": [],
            "_model_module": "@jupyter-widgets/controls",
            "_model_module_version": "1.5.0",
            "_model_name": "HTMLModel",
            "_view_count": null,
            "_view_module": "@jupyter-widgets/controls",
            "_view_module_version": "1.5.0",
            "_view_name": "HTMLView",
            "description": "",
            "description_tooltip": null,
            "layout": "IPY_MODEL_936355ab3e9f43ed84efa51d0cd373ff",
            "placeholder": "​",
            "style": "IPY_MODEL_3fe6c237ce404c038f11ed76c4f4a568",
            "value": "100%"
          }
        },
        "ca2e644fb6594e038327d8d5dc7cc980": {
          "model_module": "@jupyter-widgets/controls",
          "model_name": "FloatProgressModel",
          "model_module_version": "1.5.0",
          "state": {
            "_dom_classes": [],
            "_model_module": "@jupyter-widgets/controls",
            "_model_module_version": "1.5.0",
            "_model_name": "FloatProgressModel",
            "_view_count": null,
            "_view_module": "@jupyter-widgets/controls",
            "_view_module_version": "1.5.0",
            "_view_name": "ProgressView",
            "bar_style": "success",
            "description": "",
            "description_tooltip": null,
            "layout": "IPY_MODEL_9c47ba1a06f84d65a6f211b05c9aca02",
            "max": 311640,
            "min": 0,
            "orientation": "horizontal",
            "style": "IPY_MODEL_49deaf59b66544789790b19a754d6be2",
            "value": 311640
          }
        },
        "cc126c40ffd04ceb925a70cf20775b39": {
          "model_module": "@jupyter-widgets/controls",
          "model_name": "HTMLModel",
          "model_module_version": "1.5.0",
          "state": {
            "_dom_classes": [],
            "_model_module": "@jupyter-widgets/controls",
            "_model_module_version": "1.5.0",
            "_model_name": "HTMLModel",
            "_view_count": null,
            "_view_module": "@jupyter-widgets/controls",
            "_view_module_version": "1.5.0",
            "_view_name": "HTMLView",
            "description": "",
            "description_tooltip": null,
            "layout": "IPY_MODEL_1831bc22264542f18e98e92df0ed2918",
            "placeholder": "​",
            "style": "IPY_MODEL_e3a18606bd204085a2f3583103261525",
            "value": " 311640/311640 [00:08&lt;00:00, 32908.23it/s]"
          }
        },
        "c613629fd4224629b55aec56ba63d658": {
          "model_module": "@jupyter-widgets/base",
          "model_name": "LayoutModel",
          "model_module_version": "1.2.0",
          "state": {
            "_model_module": "@jupyter-widgets/base",
            "_model_module_version": "1.2.0",
            "_model_name": "LayoutModel",
            "_view_count": null,
            "_view_module": "@jupyter-widgets/base",
            "_view_module_version": "1.2.0",
            "_view_name": "LayoutView",
            "align_content": null,
            "align_items": null,
            "align_self": null,
            "border": null,
            "bottom": null,
            "display": null,
            "flex": null,
            "flex_flow": null,
            "grid_area": null,
            "grid_auto_columns": null,
            "grid_auto_flow": null,
            "grid_auto_rows": null,
            "grid_column": null,
            "grid_gap": null,
            "grid_row": null,
            "grid_template_areas": null,
            "grid_template_columns": null,
            "grid_template_rows": null,
            "height": null,
            "justify_content": null,
            "justify_items": null,
            "left": null,
            "margin": null,
            "max_height": null,
            "max_width": null,
            "min_height": null,
            "min_width": null,
            "object_fit": null,
            "object_position": null,
            "order": null,
            "overflow": null,
            "overflow_x": null,
            "overflow_y": null,
            "padding": null,
            "right": null,
            "top": null,
            "visibility": null,
            "width": null
          }
        },
        "936355ab3e9f43ed84efa51d0cd373ff": {
          "model_module": "@jupyter-widgets/base",
          "model_name": "LayoutModel",
          "model_module_version": "1.2.0",
          "state": {
            "_model_module": "@jupyter-widgets/base",
            "_model_module_version": "1.2.0",
            "_model_name": "LayoutModel",
            "_view_count": null,
            "_view_module": "@jupyter-widgets/base",
            "_view_module_version": "1.2.0",
            "_view_name": "LayoutView",
            "align_content": null,
            "align_items": null,
            "align_self": null,
            "border": null,
            "bottom": null,
            "display": null,
            "flex": null,
            "flex_flow": null,
            "grid_area": null,
            "grid_auto_columns": null,
            "grid_auto_flow": null,
            "grid_auto_rows": null,
            "grid_column": null,
            "grid_gap": null,
            "grid_row": null,
            "grid_template_areas": null,
            "grid_template_columns": null,
            "grid_template_rows": null,
            "height": null,
            "justify_content": null,
            "justify_items": null,
            "left": null,
            "margin": null,
            "max_height": null,
            "max_width": null,
            "min_height": null,
            "min_width": null,
            "object_fit": null,
            "object_position": null,
            "order": null,
            "overflow": null,
            "overflow_x": null,
            "overflow_y": null,
            "padding": null,
            "right": null,
            "top": null,
            "visibility": null,
            "width": null
          }
        },
        "3fe6c237ce404c038f11ed76c4f4a568": {
          "model_module": "@jupyter-widgets/controls",
          "model_name": "DescriptionStyleModel",
          "model_module_version": "1.5.0",
          "state": {
            "_model_module": "@jupyter-widgets/controls",
            "_model_module_version": "1.5.0",
            "_model_name": "DescriptionStyleModel",
            "_view_count": null,
            "_view_module": "@jupyter-widgets/base",
            "_view_module_version": "1.2.0",
            "_view_name": "StyleView",
            "description_width": ""
          }
        },
        "9c47ba1a06f84d65a6f211b05c9aca02": {
          "model_module": "@jupyter-widgets/base",
          "model_name": "LayoutModel",
          "model_module_version": "1.2.0",
          "state": {
            "_model_module": "@jupyter-widgets/base",
            "_model_module_version": "1.2.0",
            "_model_name": "LayoutModel",
            "_view_count": null,
            "_view_module": "@jupyter-widgets/base",
            "_view_module_version": "1.2.0",
            "_view_name": "LayoutView",
            "align_content": null,
            "align_items": null,
            "align_self": null,
            "border": null,
            "bottom": null,
            "display": null,
            "flex": null,
            "flex_flow": null,
            "grid_area": null,
            "grid_auto_columns": null,
            "grid_auto_flow": null,
            "grid_auto_rows": null,
            "grid_column": null,
            "grid_gap": null,
            "grid_row": null,
            "grid_template_areas": null,
            "grid_template_columns": null,
            "grid_template_rows": null,
            "height": null,
            "justify_content": null,
            "justify_items": null,
            "left": null,
            "margin": null,
            "max_height": null,
            "max_width": null,
            "min_height": null,
            "min_width": null,
            "object_fit": null,
            "object_position": null,
            "order": null,
            "overflow": null,
            "overflow_x": null,
            "overflow_y": null,
            "padding": null,
            "right": null,
            "top": null,
            "visibility": null,
            "width": null
          }
        },
        "49deaf59b66544789790b19a754d6be2": {
          "model_module": "@jupyter-widgets/controls",
          "model_name": "ProgressStyleModel",
          "model_module_version": "1.5.0",
          "state": {
            "_model_module": "@jupyter-widgets/controls",
            "_model_module_version": "1.5.0",
            "_model_name": "ProgressStyleModel",
            "_view_count": null,
            "_view_module": "@jupyter-widgets/base",
            "_view_module_version": "1.2.0",
            "_view_name": "StyleView",
            "bar_color": null,
            "description_width": ""
          }
        },
        "1831bc22264542f18e98e92df0ed2918": {
          "model_module": "@jupyter-widgets/base",
          "model_name": "LayoutModel",
          "model_module_version": "1.2.0",
          "state": {
            "_model_module": "@jupyter-widgets/base",
            "_model_module_version": "1.2.0",
            "_model_name": "LayoutModel",
            "_view_count": null,
            "_view_module": "@jupyter-widgets/base",
            "_view_module_version": "1.2.0",
            "_view_name": "LayoutView",
            "align_content": null,
            "align_items": null,
            "align_self": null,
            "border": null,
            "bottom": null,
            "display": null,
            "flex": null,
            "flex_flow": null,
            "grid_area": null,
            "grid_auto_columns": null,
            "grid_auto_flow": null,
            "grid_auto_rows": null,
            "grid_column": null,
            "grid_gap": null,
            "grid_row": null,
            "grid_template_areas": null,
            "grid_template_columns": null,
            "grid_template_rows": null,
            "height": null,
            "justify_content": null,
            "justify_items": null,
            "left": null,
            "margin": null,
            "max_height": null,
            "max_width": null,
            "min_height": null,
            "min_width": null,
            "object_fit": null,
            "object_position": null,
            "order": null,
            "overflow": null,
            "overflow_x": null,
            "overflow_y": null,
            "padding": null,
            "right": null,
            "top": null,
            "visibility": null,
            "width": null
          }
        },
        "e3a18606bd204085a2f3583103261525": {
          "model_module": "@jupyter-widgets/controls",
          "model_name": "DescriptionStyleModel",
          "model_module_version": "1.5.0",
          "state": {
            "_model_module": "@jupyter-widgets/controls",
            "_model_module_version": "1.5.0",
            "_model_name": "DescriptionStyleModel",
            "_view_count": null,
            "_view_module": "@jupyter-widgets/base",
            "_view_module_version": "1.2.0",
            "_view_name": "StyleView",
            "description_width": ""
          }
        }
      }
    }
  },
  "cells": [
    {
      "cell_type": "markdown",
      "source": [
        "# Keypoint augmentation"
      ],
      "metadata": {
        "id": "o7zX1XH6dbfV"
      }
    },
    {
      "cell_type": "code",
      "source": [
        "! unzip -q \"/content/drive/MyDrive/Colab Notebooks/Human_Activity_Recognition/pose_dataset.zip\""
      ],
      "metadata": {
        "id": "HxVOdNWaeChh"
      },
      "execution_count": null,
      "outputs": []
    },
    {
      "cell_type": "code",
      "source": [
        "import cv2\n",
        "import numpy as np\n",
        "from glob import glob\n",
        "from tqdm.auto import tqdm\n",
        "import os"
      ],
      "metadata": {
        "id": "7CuMLipheNAt"
      },
      "execution_count": null,
      "outputs": []
    },
    {
      "cell_type": "code",
      "source": [],
      "metadata": {
        "id": "Pf1-gy2eeR-b"
      },
      "execution_count": null,
      "outputs": []
    },
    {
      "cell_type": "code",
      "source": [
        "source_dir = \"pose_dataset\"\n",
        "dist_dir = \"pose_dataset_aug\""
      ],
      "metadata": {
        "id": "UXjbpeSdeRzp"
      },
      "execution_count": null,
      "outputs": []
    },
    {
      "cell_type": "code",
      "source": [
        "all_keypoints_paths = glob(f\"{source_dir}/*/*/*.npy\")\n",
        "len(all_keypoints_paths)"
      ],
      "metadata": {
        "colab": {
          "base_uri": "https://localhost:8080/"
        },
        "id": "ZpmyRb3XeTxI",
        "outputId": "8dd7fc9e-4bac-4db0-df65-163d77532800"
      },
      "execution_count": null,
      "outputs": [
        {
          "output_type": "execute_result",
          "data": {
            "text/plain": [
              "22260"
            ]
          },
          "metadata": {},
          "execution_count": 4
        }
      ]
    },
    {
      "cell_type": "code",
      "source": [
        "def get_dist_path(sourch_path, aug_type, extra_arg=''):\n",
        "    dist_path = sourch_path.replace(source_dir, dist_dir)\n",
        "    dist_path = dist_path.split('/')\n",
        "    dist_path[-2] = f\"{dist_path[-2]}_{aug_type}_{extra_arg}\"\n",
        "    return '/'.join(dist_path)"
      ],
      "metadata": {
        "id": "hAqch05jel2Y"
      },
      "execution_count": null,
      "outputs": []
    },
    {
      "cell_type": "code",
      "source": [
        "height, width = (480, 640)\n",
        "def rotate_image_and_keypoints(keypoints, angle):\n",
        "    # Rotate the image\n",
        "    rotation_matrix = cv2.getRotationMatrix2D((width / 2, height / 2), angle, 1)\n",
        "    # Rotate the keypoints\n",
        "    rotated_keypoints = cv2.transform(keypoints.reshape((1, -1, 2)), rotation_matrix)\n",
        "    return rotated_keypoints.reshape(-1, 17, 2)\n",
        "\n",
        "def zoom_image_and_keypoints(keypoints, scale):\n",
        "    return keypoints * scale\n",
        "\n",
        "def flip_image_and_keypoints(keypoints):\n",
        "    # Flip the keypoints\n",
        "    flipped_keypoints = keypoints.copy()\n",
        "    flipped_keypoints[:, :, 0] = width - flipped_keypoints[:, :, 0]\n",
        "    return flipped_keypoints"
      ],
      "metadata": {
        "id": "gKxBhxvYhr3G"
      },
      "execution_count": null,
      "outputs": []
    },
    {
      "cell_type": "code",
      "source": [
        "for keypoint_path in tqdm(all_keypoints_paths):\n",
        "    keypoints = np.load(keypoint_path)\n",
        "    for angle in [30,-30,20,-20,10,-10]:\n",
        "        dist_path = get_dist_path(keypoint_path, 'rotation', angle)\n",
        "        rotated_data = rotate_image_and_keypoints(keypoints[:,:,:2], angle)\n",
        "        resulted_data = np.zeros(keypoints.shape)\n",
        "\n",
        "        resulted_data[:,:,:2] = rotated_data\n",
        "        resulted_data[:,:,2] = keypoints[:,:,2]\n",
        "\n",
        "        os.makedirs(os.path.dirname(dist_path), exist_ok=True)\n",
        "        np.save(dist_path, resulted_data)\n",
        "\n",
        "    for scale in [1.1,1.2,1.3,0.9,0.8,0.7]:\n",
        "        dist_path = get_dist_path(keypoint_path, 'scale', scale)\n",
        "        resulted_data = zoom_image_and_keypoints(keypoints, scale)\n",
        "        os.makedirs(os.path.dirname(dist_path), exist_ok=True)\n",
        "        np.save(dist_path, resulted_data)\n",
        "\n",
        "    dist_path = get_dist_path(keypoint_path, 'flip')\n",
        "    resulted_data = flip_image_and_keypoints(keypoints)\n",
        "    os.makedirs(os.path.dirname(dist_path), exist_ok=True)\n",
        "    np.save(dist_path, resulted_data)"
      ],
      "metadata": {
        "id": "W2gZ4MBceasO",
        "colab": {
          "base_uri": "https://localhost:8080/",
          "height": 49,
          "referenced_widgets": [
            "69bf4823588446e29c58a680130b57b2",
            "326bf71938134b8d8013437c9c1420d1",
            "ecfe27252bdf4b98999aa99678f72792",
            "e9114a63f58a481f98975ec31232092a",
            "f1f7c5cc397e4eedba5df6580a5efc43",
            "f05d7bb567684500abaa78d4edc7df9f",
            "119fca6ad8e64a6d90201ac022b029db",
            "4d3b2a8807e74492bff74ff044b682e5",
            "53d9ef22558b4f3386430bf50d682acd",
            "eb5df14b0e3b44179d5bdbea4632b04e",
            "ce43ad949f4c46b1af830c6cb4183287"
          ]
        },
        "outputId": "5f1c7ff6-38b6-4773-f5ef-550ba1613d6f"
      },
      "execution_count": null,
      "outputs": [
        {
          "output_type": "display_data",
          "data": {
            "text/plain": [
              "  0%|          | 0/22260 [00:00<?, ?it/s]"
            ],
            "application/vnd.jupyter.widget-view+json": {
              "version_major": 2,
              "version_minor": 0,
              "model_id": "69bf4823588446e29c58a680130b57b2"
            }
          },
          "metadata": {}
        }
      ]
    },
    {
      "cell_type": "code",
      "source": [
        "import shutil\n",
        "for keypoint_path in tqdm(all_keypoints_paths):\n",
        "    dist_path = keypoint_path.replace(source_dir, dist_dir)\n",
        "    os.makedirs(os.path.dirname(dist_path), exist_ok=True)\n",
        "    shutil.copyfile(keypoint_path, dist_path)"
      ],
      "metadata": {
        "colab": {
          "base_uri": "https://localhost:8080/",
          "height": 49,
          "referenced_widgets": [
            "732b66548eba4990b8c7e8a0317178d3",
            "f12a0b6cae51491fb7094c9f5e62018a",
            "cda021d8650147d7a68a6b4c0592f4fa",
            "f60e04392dbc49539f3eda5830c3a85b",
            "5b6f0ba9b5f448618e73add38ac8fe1e",
            "566b0f0ce95641b2bc5927d6bd3174d7",
            "203f194959124cb8ac19d370041a124a",
            "394f9aed30ab4dada668221ffaf59c11",
            "d8c1116ad6204d6d957cbddeb6a61191",
            "51b941edd51241cab2aa8b542c00ab26",
            "7bbbe405e204437cb3ed061d3053efbe"
          ]
        },
        "id": "RWz_xaKmhvr1",
        "outputId": "90e9b444-9de8-4662-c1c4-bec8bb77c2ae"
      },
      "execution_count": null,
      "outputs": [
        {
          "output_type": "display_data",
          "data": {
            "text/plain": [
              "  0%|          | 0/22260 [00:00<?, ?it/s]"
            ],
            "application/vnd.jupyter.widget-view+json": {
              "version_major": 2,
              "version_minor": 0,
              "model_id": "732b66548eba4990b8c7e8a0317178d3"
            }
          },
          "metadata": {}
        }
      ]
    },
    {
      "cell_type": "code",
      "source": [
        "for old_path in tqdm(glob(\"/content/pose_dataset_aug/*/*/*\")):\n",
        "    new_path = old_path.replace('.jpg', '')\n",
        "    os.rename(old_path, new_path)"
      ],
      "metadata": {
        "colab": {
          "base_uri": "https://localhost:8080/",
          "height": 49,
          "referenced_widgets": [
            "c07ffeb5d5e14b5ab865a0499de46488",
            "a098805a041e4e2ea1e83ff1874da97e",
            "ca2e644fb6594e038327d8d5dc7cc980",
            "cc126c40ffd04ceb925a70cf20775b39",
            "c613629fd4224629b55aec56ba63d658",
            "936355ab3e9f43ed84efa51d0cd373ff",
            "3fe6c237ce404c038f11ed76c4f4a568",
            "9c47ba1a06f84d65a6f211b05c9aca02",
            "49deaf59b66544789790b19a754d6be2",
            "1831bc22264542f18e98e92df0ed2918",
            "e3a18606bd204085a2f3583103261525"
          ]
        },
        "id": "xQj5hAXWizrB",
        "outputId": "e264d6c7-d3de-41dc-b98a-c84a01c55164"
      },
      "execution_count": null,
      "outputs": [
        {
          "output_type": "display_data",
          "data": {
            "text/plain": [
              "  0%|          | 0/311640 [00:00<?, ?it/s]"
            ],
            "application/vnd.jupyter.widget-view+json": {
              "version_major": 2,
              "version_minor": 0,
              "model_id": "c07ffeb5d5e14b5ab865a0499de46488"
            }
          },
          "metadata": {}
        }
      ]
    },
    {
      "cell_type": "code",
      "source": [
        "! zip -q -r pose_dataset_aug.zip pose_dataset_aug"
      ],
      "metadata": {
        "id": "GnAr87nbjG5R"
      },
      "execution_count": null,
      "outputs": []
    },
    {
      "cell_type": "code",
      "source": [
        "! cp pose_dataset_aug.zip \"/content/drive/MyDrive/Colab Notebooks/Human_Activity_Recognition\""
      ],
      "metadata": {
        "id": "lwK4gRhypmQp"
      },
      "execution_count": null,
      "outputs": []
    },
    {
      "cell_type": "markdown",
      "source": [
        "# Binary img augmentation"
      ],
      "metadata": {
        "id": "RylMmBb-qAhC"
      }
    },
    {
      "cell_type": "code",
      "source": [
        "! unzip -q \"/content/drive/MyDrive/Colab Notebooks/Human_Activity_Recognition/dataset_segmentation_binary.zip\"\n",
        "# ! unzip -q \"/content/drive/MyDrive/Colab Notebooks/ActionDetection/17_11_23/Datasets/aug_seg_rgb.zip\""
      ],
      "metadata": {
        "id": "xexBAXXrqGOp"
      },
      "execution_count": null,
      "outputs": []
    },
    {
      "cell_type": "code",
      "source": [
        "import cv2\n",
        "import numpy as np\n",
        "from glob import glob\n",
        "from tqdm.auto import tqdm\n",
        "import os\n",
        "import shutil\n",
        "from skimage import img_as_ubyte\n",
        "from skimage.transform import resize\n",
        "from PIL import Image"
      ],
      "metadata": {
        "id": "hKrTCcZIqMSX"
      },
      "execution_count": null,
      "outputs": []
    },
    {
      "cell_type": "markdown",
      "source": [
        "## fill the deleted images"
      ],
      "metadata": {
        "id": "ZUD-37qq0lhW"
      }
    },
    {
      "cell_type": "code",
      "source": [
        "# def fill_none_with_closest(lst):\n",
        "#     n = len(lst)\n",
        "\n",
        "#     for i in range(n):\n",
        "#         if lst[i] is None:\n",
        "#             # Look for the closest non-None value before\n",
        "#             left = i - 1\n",
        "#             while left >= 0 and lst[left] is None:\n",
        "#                 left -= 1\n",
        "\n",
        "#             # Look for the closest non-None value after\n",
        "#             right = i + 1\n",
        "#             while right < n and lst[right] is None:\n",
        "#                 right += 1\n",
        "\n",
        "#             # Fill the None with the closest found values\n",
        "#             if left >= 0:\n",
        "#                 lst[i] = lst[left]\n",
        "#             if right < n:\n",
        "#                 lst[i] = lst[right]\n",
        "\n",
        "#     return lst\n",
        "\n",
        "\n",
        "# import shutil\n",
        "\n",
        "\n",
        "\n",
        "# for dir in glob(f\"{source_dir}/*/*\"):\n",
        "#     total_files = len(glob(f\"{dir}/*\"))\n",
        "#     if total_files < 20:\n",
        "#         all_img_paths = glob(f\"{dir}/*\")\n",
        "#         img_indexs = [None]*20\n",
        "#         for img_path in all_img_paths:\n",
        "#             index = int(img_path.split('/')[-1].split('.')[0])\n",
        "#             img_indexs[index] =  img_path\n",
        "#         img_indexs = fill_none_with_closest(img_indexs)\n",
        "#         for index, img_index in enumerate(img_indexs):\n",
        "#             if img_index.split('/')[-1] != f\"{index:0>2}.jpg\":\n",
        "#                 shutil.copyfile(img_index,\n",
        "#                                 img_index.replace(f\"{img_index.split('/')[-1]}\", f\"{index:0>2}.jpg\")\n",
        "#                                 )\n"
      ],
      "metadata": {
        "id": "7TDsAMfO0pTt"
      },
      "execution_count": null,
      "outputs": []
    },
    {
      "cell_type": "code",
      "source": [
        "IMG_SIZE_H = 480\n",
        "IMG_SIZE_W = 640\n",
        "def process_image(img):\n",
        "    h, w = img.shape[:2]\n",
        "    pad_h = max(0, (IMG_SIZE_H - h) // 2)\n",
        "    pad_w = max(0, (IMG_SIZE_W - w) // 2)\n",
        "    img = np.pad(img, ((pad_h, pad_h), (pad_w, pad_w), (0, 0)), mode='constant', constant_values=0)\n",
        "    crop_h = max(0, (h-IMG_SIZE_H) // 2)\n",
        "    crop_w = max(0, (w-IMG_SIZE_W) // 2)\n",
        "    img = img[crop_h:IMG_SIZE_H+crop_h, crop_w:IMG_SIZE_W+crop_w, :]\n",
        "    return img\n",
        "\n",
        "def zoom_image(image, scale):\n",
        "    # Resize the image\n",
        "    height, width = image.shape[:2]\n",
        "    new_height, new_width = int(height * scale), int(width * scale)\n",
        "    zoomed_image = cv2.resize(image, (new_width, new_height))\n",
        "    return process_image(zoomed_image)"
      ],
      "metadata": {
        "id": "h0mkGRxcqPzI"
      },
      "execution_count": null,
      "outputs": []
    },
    {
      "cell_type": "code",
      "source": [
        "IMG_SIZE_H = 480\n",
        "IMG_SIZE_W = 640\n",
        "\n",
        "def rotate_image(image, angle):\n",
        "    # Rotate the image\n",
        "    height, width = image.shape[:2]\n",
        "    rotation_matrix = cv2.getRotationMatrix2D((width / 2, height / 2), angle, 1)\n",
        "    rotated_image = cv2.warpAffine(image, rotation_matrix, (width, height))\n",
        "    return rotated_image\n",
        "\n",
        "def process_image(img):\n",
        "    h, w = img.shape[:2]\n",
        "    pad_h = max(0, (IMG_SIZE_H - h) // 2)\n",
        "    pad_w = max(0, (IMG_SIZE_W - w) // 2)\n",
        "    img = np.pad(img, ((pad_h, pad_h), (pad_w, pad_w), (0, 0)), mode='constant', constant_values=0)\n",
        "    crop_h = max(0, (h-IMG_SIZE_H) // 2)\n",
        "    crop_w = max(0, (w-IMG_SIZE_W) // 2)\n",
        "    img = img[crop_h:IMG_SIZE_H+crop_h, crop_w:IMG_SIZE_W+crop_w, :]\n",
        "    return img\n",
        "\n",
        "def zoom_image(image, scale):\n",
        "    # Resize the image\n",
        "    height, width = image.shape[:2]\n",
        "    new_height, new_width = int(height * scale), int(width * scale)\n",
        "    zoomed_image = cv2.resize(image, (new_width, new_height))\n",
        "    return process_image(zoomed_image)\n",
        "\n",
        "def flip_image(image):\n",
        "    flipped_image = cv2.flip(image, 1)\n",
        "    return flipped_image\n",
        "\n",
        "# def adjust_brightness(image, factor):\n",
        "#     hsv_image = cv2.cvtColor(image, cv2.COLOR_BGR2HSV)\n",
        "#     hsv_image[:,:,2] = np.clip(hsv_image[:,:,2] * factor, 0, 255).astype(np.uint8)\n",
        "#     brightness_adjusted_image = cv2.cvtColor(hsv_image, cv2.COLOR_HSV2BGR)\n",
        "#     return brightness_adjusted_image"
      ],
      "metadata": {
        "id": "oswVRDtAqTBP"
      },
      "execution_count": null,
      "outputs": []
    },
    {
      "cell_type": "code",
      "source": [
        "def get_dist_path(sourch_path, aug_type, extra_arg=''):\n",
        "    dist_path = sourch_path.replace(source_dir, dist_dir)\n",
        "    dist_path = dist_path.split('/')\n",
        "    dist_path[-2] = f\"{dist_path[-2]}_{aug_type}_{extra_arg}\"\n",
        "    return '/'.join(dist_path)"
      ],
      "metadata": {
        "id": "-XaLbRLVqpG5"
      },
      "execution_count": null,
      "outputs": []
    },
    {
      "cell_type": "code",
      "source": [
        "source_dir = \"dataset_segmentation_binary\"\n",
        "dist_dir = \"aug_seg_bin\""
      ],
      "metadata": {
        "id": "vxchNoB1qrCp"
      },
      "execution_count": null,
      "outputs": []
    },
    {
      "cell_type": "code",
      "source": [
        "all_img_paths = glob(f\"{source_dir}/*/*/*\")\n",
        "len(all_img_paths)"
      ],
      "metadata": {
        "colab": {
          "base_uri": "https://localhost:8080/"
        },
        "id": "F9x2Ypusqs6Y",
        "outputId": "d19d88dd-9755-4fdc-a223-eecd62445cf9"
      },
      "execution_count": null,
      "outputs": [
        {
          "output_type": "execute_result",
          "data": {
            "text/plain": [
              "22260"
            ]
          },
          "metadata": {},
          "execution_count": 25
        }
      ]
    },
    {
      "cell_type": "code",
      "source": [
        "for img_path in tqdm(all_img_paths):\n",
        "    img = cv2.imread(img_path)\n",
        "    for angle in [30,-30,20,-20,10,-10]:\n",
        "        dist_path = get_dist_path(img_path, 'rotation', angle)\n",
        "        resulted_data = rotate_image(img, angle)\n",
        "        os.makedirs(os.path.dirname(dist_path), exist_ok=True)\n",
        "        cv2.imwrite(dist_path, resulted_data)\n",
        "\n",
        "    for scale in [1.1,1.2,1.3,0.9,0.8,0.7]:\n",
        "        dist_path = get_dist_path(img_path, 'scale', scale)\n",
        "        resulted_data = zoom_image(img, scale)\n",
        "        os.makedirs(os.path.dirname(dist_path), exist_ok=True)\n",
        "        cv2.imwrite(dist_path, resulted_data)\n",
        "\n",
        "    dist_path = get_dist_path(img_path, 'flip')\n",
        "    resulted_data = flip_image(img)\n",
        "    os.makedirs(os.path.dirname(dist_path), exist_ok=True)\n",
        "    cv2.imwrite(dist_path, resulted_data)"
      ],
      "metadata": {
        "colab": {
          "base_uri": "https://localhost:8080/",
          "height": 49,
          "referenced_widgets": [
            "eed562404d9645fb85596ec1a8737589",
            "f4602c53ebcd422e8d58090a3abd6de2",
            "5517ffcc4bf8418ba14db3037ed3a05c",
            "f2467a8cf154484a86c00edee22babf8",
            "1ba0c0739fb24517b4109696df3d9824",
            "df0ca504f8234960bef102b9d80660fb",
            "92413f56a7c2496e83ecc618b290a5cd",
            "ae9acc7df02e4755ae3a37e20fb6ffb5",
            "cc9a6a736f22447e8e4298d00b4069db",
            "5110adacfaa94e76995653e54bf5070a",
            "2bc9fccb55724725b0ed44352e05ee47"
          ]
        },
        "id": "tHpCLtr_yzDy",
        "outputId": "90dc113a-b702-49af-f1af-c04d72be2cc2"
      },
      "execution_count": null,
      "outputs": [
        {
          "output_type": "display_data",
          "data": {
            "text/plain": [
              "  0%|          | 0/22260 [00:00<?, ?it/s]"
            ],
            "application/vnd.jupyter.widget-view+json": {
              "version_major": 2,
              "version_minor": 0,
              "model_id": "eed562404d9645fb85596ec1a8737589"
            }
          },
          "metadata": {}
        }
      ]
    },
    {
      "cell_type": "code",
      "source": [
        "import shutil\n",
        "for img_path in tqdm(all_img_paths):\n",
        "    dist_path = img_path.replace(source_dir, dist_dir)\n",
        "    os.makedirs(os.path.dirname(dist_path), exist_ok=True)\n",
        "    shutil.copyfile(img_path, dist_path)"
      ],
      "metadata": {
        "colab": {
          "base_uri": "https://localhost:8080/",
          "height": 49,
          "referenced_widgets": [
            "1e769b85201c4779ba7c05862e847517",
            "f3abd49e69a34629986380f5118bbbdf",
            "86bbbca370dc4e9b9ee5087fc3db0faa",
            "a49af0065b434f348ade37c79c28566e",
            "a2e5ead3f80b4cd09bc48971d6abf354",
            "a01af378411742a69770e34439ee7be1",
            "cc2a7aa154a1454196c9846dc10eb2b5",
            "b2d5d2f10b75483ca1912e704948412d",
            "e281ab199d6a43789e99dc9c20fb443f",
            "7130817d68814ed38c996549d92ba0e3",
            "1367e19b07084a66a42b97376e36ad46"
          ]
        },
        "id": "NozWPD1zzHJm",
        "outputId": "eed34cd8-9bb9-4536-bd2a-e24ac1218850"
      },
      "execution_count": null,
      "outputs": [
        {
          "output_type": "display_data",
          "data": {
            "text/plain": [
              "  0%|          | 0/22260 [00:00<?, ?it/s]"
            ],
            "application/vnd.jupyter.widget-view+json": {
              "version_major": 2,
              "version_minor": 0,
              "model_id": "1e769b85201c4779ba7c05862e847517"
            }
          },
          "metadata": {}
        }
      ]
    },
    {
      "cell_type": "code",
      "source": [
        "! zip -q -r \"aug_seg_bin.zip\" \"aug_seg_bin\""
      ],
      "metadata": {
        "id": "1VDdgT5pqywA"
      },
      "execution_count": null,
      "outputs": []
    },
    {
      "cell_type": "code",
      "source": [
        "! cp \"aug_seg_bin.zip\" \"/content/drive/MyDrive/Colab Notebooks/Human_Activity_Recognition\""
      ],
      "metadata": {
        "id": "R8MSlPQ7rgGQ"
      },
      "execution_count": null,
      "outputs": []
    },
    {
      "cell_type": "markdown",
      "source": [
        "# RGB img augmentation"
      ],
      "metadata": {
        "id": "v9ihDRmr1aSj"
      }
    },
    {
      "cell_type": "code",
      "source": [
        "! unzip -q \"/content/drive/MyDrive/Colab Notebooks/Human_Activity_Recognition/dataset_segmentation_rgb.zip\""
      ],
      "metadata": {
        "id": "d5wSwgd710KW"
      },
      "execution_count": null,
      "outputs": []
    },
    {
      "cell_type": "code",
      "source": [
        "import cv2\n",
        "import numpy as np\n",
        "from glob import glob\n",
        "from tqdm.auto import tqdm\n",
        "import os\n",
        "import shutil\n",
        "from skimage import img_as_ubyte\n",
        "from skimage.transform import resize\n",
        "from PIL import Image"
      ],
      "metadata": {
        "id": "Pv1upa6e159o"
      },
      "execution_count": null,
      "outputs": []
    },
    {
      "cell_type": "code",
      "source": [
        "source_dir = \"dataset_segmentation_rgb\"\n",
        "dist_dir = \"aug_seg_rgb\""
      ],
      "metadata": {
        "id": "RktG4VBq2FKv"
      },
      "execution_count": null,
      "outputs": []
    },
    {
      "cell_type": "code",
      "source": [
        "all_img_paths = glob(f\"{source_dir}/*/*/*\")\n",
        "len(all_img_paths)"
      ],
      "metadata": {
        "colab": {
          "base_uri": "https://localhost:8080/"
        },
        "id": "7YsIl_dB2JYu",
        "outputId": "b3844eac-1502-4241-a3c7-f73472dc8a84"
      },
      "execution_count": null,
      "outputs": [
        {
          "output_type": "execute_result",
          "data": {
            "text/plain": [
              "21994"
            ]
          },
          "metadata": {},
          "execution_count": 4
        }
      ]
    },
    {
      "cell_type": "code",
      "source": [
        "def fill_none_with_closest(lst):\n",
        "    n = len(lst)\n",
        "\n",
        "    for i in range(n):\n",
        "        if lst[i] is None:\n",
        "            # Look for the closest non-None value before\n",
        "            left = i - 1\n",
        "            while left >= 0 and lst[left] is None:\n",
        "                left -= 1\n",
        "\n",
        "            # Look for the closest non-None value after\n",
        "            right = i + 1\n",
        "            while right < n and lst[right] is None:\n",
        "                right += 1\n",
        "\n",
        "            # Fill the None with the closest found values\n",
        "            if left >= 0:\n",
        "                lst[i] = lst[left]\n",
        "            if right < n:\n",
        "                lst[i] = lst[right]\n",
        "\n",
        "    return lst\n",
        "\n",
        "\n",
        "\n",
        "for dir in glob(f\"{source_dir}/*/*\"):\n",
        "    total_files = len(glob(f\"{dir}/*\"))\n",
        "    if total_files < 20:\n",
        "        all_img_paths = glob(f\"{dir}/*\")\n",
        "        img_indexs = [None]*20\n",
        "        for img_path in all_img_paths:\n",
        "            index = int(img_path.split('/')[-1].split('.')[0])\n",
        "            img_indexs[index] =  img_path\n",
        "        img_indexs = fill_none_with_closest(img_indexs)\n",
        "        for index, img_index in enumerate(img_indexs):\n",
        "            if img_index.split('/')[-1] != f\"{index:0>2}.jpg\":\n",
        "                shutil.copyfile(img_index,\n",
        "                                img_index.replace(f\"{img_index.split('/')[-1]}\", f\"{index:0>2}.jpg\")\n",
        "                                )\n"
      ],
      "metadata": {
        "id": "6tqKl2vh171-"
      },
      "execution_count": null,
      "outputs": []
    },
    {
      "cell_type": "code",
      "source": [
        "all_img_paths = glob(f\"{source_dir}/*/*/*\")\n",
        "len(all_img_paths)"
      ],
      "metadata": {
        "colab": {
          "base_uri": "https://localhost:8080/"
        },
        "id": "5fISNxVo2MN2",
        "outputId": "1d569512-df60-4c32-e8d6-4839719cb29f"
      },
      "execution_count": null,
      "outputs": [
        {
          "output_type": "execute_result",
          "data": {
            "text/plain": [
              "22260"
            ]
          },
          "metadata": {},
          "execution_count": 6
        }
      ]
    },
    {
      "cell_type": "code",
      "source": [
        "def get_dist_path(sourch_path, aug_type, extra_arg=''):\n",
        "    dist_path = sourch_path.replace(source_dir, dist_dir)\n",
        "    dist_path = dist_path.split('/')\n",
        "    dist_path[-2] = f\"{dist_path[-2]}_{aug_type}_{extra_arg}\"\n",
        "    return '/'.join(dist_path)"
      ],
      "metadata": {
        "id": "2ssPi7zRa5Xk"
      },
      "execution_count": null,
      "outputs": []
    },
    {
      "cell_type": "code",
      "source": [
        "IMG_SIZE_H = 480\n",
        "IMG_SIZE_W = 640\n",
        "def process_image(img):\n",
        "    h, w = img.shape[:2]\n",
        "    pad_h = max(0, (IMG_SIZE_H - h) // 2)\n",
        "    pad_w = max(0, (IMG_SIZE_W - w) // 2)\n",
        "    img = np.pad(img, ((pad_h, pad_h), (pad_w, pad_w), (0, 0)), mode='constant', constant_values=0)\n",
        "    crop_h = max(0, (h-IMG_SIZE_H) // 2)\n",
        "    crop_w = max(0, (w-IMG_SIZE_W) // 2)\n",
        "    img = img[crop_h:IMG_SIZE_H+crop_h, crop_w:IMG_SIZE_W+crop_w, :]\n",
        "    return img\n",
        "\n",
        "def zoom_image(image, scale):\n",
        "    # Resize the image\n",
        "    height, width = image.shape[:2]\n",
        "    new_height, new_width = int(height * scale), int(width * scale)\n",
        "    zoomed_image = cv2.resize(image, (new_width, new_height))\n",
        "    return process_image(zoomed_image)"
      ],
      "metadata": {
        "id": "q0V8RQPtbFC_"
      },
      "execution_count": null,
      "outputs": []
    },
    {
      "cell_type": "code",
      "source": [
        "IMG_SIZE_H = 480\n",
        "IMG_SIZE_W = 640\n",
        "\n",
        "def rotate_image(image, angle):\n",
        "    # Rotate the image\n",
        "    height, width = image.shape[:2]\n",
        "    rotation_matrix = cv2.getRotationMatrix2D((width / 2, height / 2), angle, 1)\n",
        "    rotated_image = cv2.warpAffine(image, rotation_matrix, (width, height))\n",
        "    return rotated_image\n",
        "\n",
        "def process_image(img):\n",
        "    h, w = img.shape[:2]\n",
        "    pad_h = max(0, (IMG_SIZE_H - h) // 2)\n",
        "    pad_w = max(0, (IMG_SIZE_W - w) // 2)\n",
        "    img = np.pad(img, ((pad_h, pad_h), (pad_w, pad_w), (0, 0)), mode='constant', constant_values=0)\n",
        "    crop_h = max(0, (h-IMG_SIZE_H) // 2)\n",
        "    crop_w = max(0, (w-IMG_SIZE_W) // 2)\n",
        "    img = img[crop_h:IMG_SIZE_H+crop_h, crop_w:IMG_SIZE_W+crop_w, :]\n",
        "    return img\n",
        "\n",
        "def zoom_image(image, scale):\n",
        "    # Resize the image\n",
        "    height, width = image.shape[:2]\n",
        "    new_height, new_width = int(height * scale), int(width * scale)\n",
        "    zoomed_image = cv2.resize(image, (new_width, new_height))\n",
        "    return process_image(zoomed_image)\n",
        "\n",
        "def flip_image(image):\n",
        "    flipped_image = cv2.flip(image, 1)\n",
        "    return flipped_image\n",
        "\n",
        "# def adjust_brightness(image, factor):\n",
        "#     hsv_image = cv2.cvtColor(image, cv2.COLOR_BGR2HSV)\n",
        "#     hsv_image[:,:,2] = np.clip(hsv_image[:,:,2] * factor, 0, 255).astype(np.uint8)\n",
        "#     brightness_adjusted_image = cv2.cvtColor(hsv_image, cv2.COLOR_HSV2BGR)\n",
        "#     return brightness_adjusted_image"
      ],
      "metadata": {
        "id": "R6Bx-6rmbEPa"
      },
      "execution_count": null,
      "outputs": []
    },
    {
      "cell_type": "code",
      "source": [
        "for img_path in tqdm(all_img_paths):\n",
        "    img = cv2.imread(img_path)\n",
        "    for angle in [30,-30,20,-20,10,-10]:\n",
        "        dist_path = get_dist_path(img_path, 'rotation', angle)\n",
        "        resulted_data = rotate_image(img, angle)\n",
        "        os.makedirs(os.path.dirname(dist_path), exist_ok=True)\n",
        "        cv2.imwrite(dist_path, resulted_data)\n",
        "\n",
        "    for scale in [1.1,1.2,1.3,0.9,0.8,0.7]:\n",
        "        dist_path = get_dist_path(img_path, 'scale', scale)\n",
        "        resulted_data = zoom_image(img, scale)\n",
        "        os.makedirs(os.path.dirname(dist_path), exist_ok=True)\n",
        "        cv2.imwrite(dist_path, resulted_data)\n",
        "\n",
        "    dist_path = get_dist_path(img_path, 'flip')\n",
        "    resulted_data = flip_image(img)\n",
        "    os.makedirs(os.path.dirname(dist_path), exist_ok=True)\n",
        "    cv2.imwrite(dist_path, resulted_data)"
      ],
      "metadata": {
        "colab": {
          "base_uri": "https://localhost:8080/",
          "height": 49,
          "referenced_widgets": [
            "49eed8edb7134a44ad60aa7d711790b4",
            "574a1b9a38b446babbae79154e93b467",
            "dd3482f5c74d448395305a0a206304f6",
            "518a84c484b44717ba501f0457f14257",
            "9566235baa264609808e9d08f41e5a03",
            "7871dbdb454444dba06ab8ffec90bed5",
            "1499b16248df44dc9b5fade2b1d4ab50",
            "94649430a7c0442a8db2b58a354dfb42",
            "f1c2fcff3f354422a5bce03c2d2deb41",
            "045f1c581b9c4e63801ee86ed1419416",
            "fae78d34c9b244e0a297143a9121b704"
          ]
        },
        "id": "bh5NGk-l2T9V",
        "outputId": "33e2b9b6-0b02-455e-e41c-8b8afc55de18"
      },
      "execution_count": null,
      "outputs": [
        {
          "data": {
            "application/vnd.jupyter.widget-view+json": {
              "model_id": "49eed8edb7134a44ad60aa7d711790b4",
              "version_major": 2,
              "version_minor": 0
            },
            "text/plain": [
              "  0%|          | 0/22260 [00:00<?, ?it/s]"
            ]
          },
          "metadata": {},
          "output_type": "display_data"
        }
      ]
    },
    {
      "cell_type": "code",
      "source": [
        "import shutil\n",
        "for img_path in tqdm(all_img_paths):\n",
        "    dist_path = img_path.replace(source_dir, dist_dir)\n",
        "    os.makedirs(os.path.dirname(dist_path), exist_ok=True)\n",
        "    shutil.copyfile(img_path, dist_path)"
      ],
      "metadata": {
        "colab": {
          "base_uri": "https://localhost:8080/",
          "height": 49,
          "referenced_widgets": [
            "ffd6c150838d4d8b92ce69881701661e",
            "5528b679aeb247e2aab88a7c4a81aa55",
            "8d5602a63c504eca83aead6f72582572",
            "fcd7172c0e104100b63d379236ef3d15",
            "622a3f61b7c34a18aec8eb5a8eb302af",
            "045bb6fd31aa4ee6ae3528dc2d41f9e9",
            "80c5ceb99cdb41bdb9a0bdf4de8bcb78",
            "2c3d2832af4c400492c35b49a57ef576",
            "f2bcb7246fb845a58c933b51fe871458",
            "9f00b71d47064773a26663378302d720",
            "fc5719c179ff45bbaee614f4e91a5a85"
          ]
        },
        "id": "_i1RWcxe2YI0",
        "outputId": "00605d3e-e87d-4783-c59f-e160d90c75a0"
      },
      "execution_count": null,
      "outputs": [
        {
          "output_type": "display_data",
          "data": {
            "text/plain": [
              "  0%|          | 0/22260 [00:00<?, ?it/s]"
            ],
            "application/vnd.jupyter.widget-view+json": {
              "version_major": 2,
              "version_minor": 0,
              "model_id": "ffd6c150838d4d8b92ce69881701661e"
            }
          },
          "metadata": {}
        }
      ]
    },
    {
      "cell_type": "code",
      "source": [
        "! zip -q -r \"aug_seg_rgb.zip\" \"aug_seg_rgb\""
      ],
      "metadata": {
        "id": "TnNqoQJj2Ylh"
      },
      "execution_count": null,
      "outputs": []
    },
    {
      "cell_type": "code",
      "source": [
        "! cp \"aug_seg_rgb.zip\" \"/content/drive/MyDrive/Colab Notebooks/Human_Activity_Recognition\""
      ],
      "metadata": {
        "id": "C_s4OSny2bBx"
      },
      "execution_count": null,
      "outputs": []
    },
    {
      "cell_type": "code",
      "source": [],
      "metadata": {
        "id": "RIrFJDMonlz5"
      },
      "execution_count": null,
      "outputs": []
    }
  ]
}